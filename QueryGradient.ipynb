{
 "cells": [
  {
   "cell_type": "code",
   "execution_count": 1,
   "metadata": {
    "collapsed": true
   },
   "outputs": [],
   "source": [
    "import MySQLdb"
   ]
  },
  {
   "cell_type": "code",
   "execution_count": 2,
   "metadata": {
    "collapsed": true
   },
   "outputs": [],
   "source": [
    "db=MySQLdb.connect(host=\"ece457project.chwjf5irbz2p.us-east-2.rds.amazonaws.com\",\n",
    "                        user=\"aiproject2018\",\n",
    "                        passwd=\"aiproject2018\",\n",
    "                        db=\"bitcoinproject\")"
   ]
  },
  {
   "cell_type": "code",
   "execution_count": 3,
   "metadata": {
    "collapsed": true
   },
   "outputs": [],
   "source": [
    "cur=db.cursor()"
   ]
  },
  {
   "cell_type": "code",
   "execution_count": 4,
   "metadata": {},
   "outputs": [
    {
     "data": {
      "text/plain": [
       "3L"
      ]
     },
     "execution_count": 4,
     "metadata": {},
     "output_type": "execute_result"
    }
   ],
   "source": [
    "cur.execute(\"show tables\")"
   ]
  },
  {
   "cell_type": "code",
   "execution_count": 5,
   "metadata": {},
   "outputs": [
    {
     "data": {
      "text/plain": [
       "(('coindesk_articles',), ('daily_gradient',), ('weekly_gradient',))"
      ]
     },
     "execution_count": 5,
     "metadata": {},
     "output_type": "execute_result"
    }
   ],
   "source": [
    "cur.fetchall()"
   ]
  },
  {
   "cell_type": "code",
   "execution_count": 6,
   "metadata": {},
   "outputs": [
    {
     "data": {
      "text/plain": [
       "2L"
      ]
     },
     "execution_count": 6,
     "metadata": {},
     "output_type": "execute_result"
    }
   ],
   "source": [
    "cur.execute(\"describe weekly_gradient\")"
   ]
  },
  {
   "cell_type": "code",
   "execution_count": 7,
   "metadata": {},
   "outputs": [
    {
     "data": {
      "text/plain": [
       "(('date', 'datetime', 'NO', 'PRI', None, ''),\n",
       " ('gradient', 'varchar(45)', 'NO', '', None, ''))"
      ]
     },
     "execution_count": 7,
     "metadata": {},
     "output_type": "execute_result"
    }
   ],
   "source": [
    "cur.fetchall()"
   ]
  },
  {
   "cell_type": "code",
   "execution_count": 8,
   "metadata": {},
   "outputs": [
    {
     "data": {
      "text/plain": [
       "10L"
      ]
     },
     "execution_count": 8,
     "metadata": {},
     "output_type": "execute_result"
    }
   ],
   "source": [
    "cur.execute(\"select * from weekly_gradient limit 10\")"
   ]
  },
  {
   "cell_type": "code",
   "execution_count": 9,
   "metadata": {
    "collapsed": true
   },
   "outputs": [],
   "source": [
    "a=(cur.fetchall())"
   ]
  },
  {
   "cell_type": "code",
   "execution_count": 10,
   "metadata": {
    "collapsed": true
   },
   "outputs": [],
   "source": [
    "dates=[i[0] for i in a if i[0].month==5]"
   ]
  },
  {
   "cell_type": "code",
   "execution_count": 11,
   "metadata": {},
   "outputs": [
    {
     "data": {
      "text/plain": [
       "[datetime.datetime(2017, 5, 6, 23, 0),\n",
       " datetime.datetime(2017, 5, 13, 23, 0),\n",
       " datetime.datetime(2017, 5, 20, 23, 0),\n",
       " datetime.datetime(2017, 5, 27, 23, 0)]"
      ]
     },
     "execution_count": 11,
     "metadata": {},
     "output_type": "execute_result"
    }
   ],
   "source": [
    "dates"
   ]
  },
  {
   "cell_type": "code",
   "execution_count": 12,
   "metadata": {},
   "outputs": [
    {
     "data": {
      "text/plain": [
       "datetime.datetime(2017, 5, 6, 0, 0)"
      ]
     },
     "execution_count": 12,
     "metadata": {},
     "output_type": "execute_result"
    }
   ],
   "source": [
    "import datetime\n",
    "datetime.datetime(2017,5,6)"
   ]
  },
  {
   "cell_type": "code",
   "execution_count": 13,
   "metadata": {
    "collapsed": true
   },
   "outputs": [],
   "source": [
    "a=datetime.datetime(2017,5,6)"
   ]
  },
  {
   "cell_type": "code",
   "execution_count": 14,
   "metadata": {},
   "outputs": [
    {
     "data": {
      "text/plain": [
       "'2017-05-06'"
      ]
     },
     "execution_count": 14,
     "metadata": {},
     "output_type": "execute_result"
    }
   ],
   "source": [
    "str(a.date())"
   ]
  },
  {
   "cell_type": "code",
   "execution_count": 15,
   "metadata": {},
   "outputs": [
    {
     "data": {
      "text/plain": [
       "'2017-05-06 23:00:00'"
      ]
     },
     "execution_count": 15,
     "metadata": {},
     "output_type": "execute_result"
    }
   ],
   "source": [
    "a\n",
    "b=datetime.datetime(a.year,a.month,a.day,23)\n",
    "str(b)"
   ]
  },
  {
   "cell_type": "code",
   "execution_count": 16,
   "metadata": {},
   "outputs": [
    {
     "ename": "NameError",
     "evalue": "name 'st' is not defined",
     "output_type": "error",
     "traceback": [
      "\u001b[0;31m---------------------------------------------------------------------------\u001b[0m",
      "\u001b[0;31mNameError\u001b[0m                                 Traceback (most recent call last)",
      "\u001b[0;32m<ipython-input-16-76a7405c0d5b>\u001b[0m in \u001b[0;36m<module>\u001b[0;34m()\u001b[0m\n\u001b[1;32m      1\u001b[0m \u001b[0mb\u001b[0m\u001b[0;34m\u001b[0m\u001b[0m\n\u001b[0;32m----> 2\u001b[0;31m \u001b[0mst\u001b[0m\u001b[0;34m\u001b[0m\u001b[0m\n\u001b[0m",
      "\u001b[0;31mNameError\u001b[0m: name 'st' is not defined"
     ]
    }
   ],
   "source": [
    "b\n",
    "st"
   ]
  },
  {
   "cell_type": "code",
   "execution_count": null,
   "metadata": {
    "collapsed": true
   },
   "outputs": [],
   "source": [
    "cur.execute(\"SELECT gradient from weekly_gradient where date = %s\",(str(b),))"
   ]
  },
  {
   "cell_type": "code",
   "execution_count": 17,
   "metadata": {},
   "outputs": [
    {
     "ename": "IndexError",
     "evalue": "tuple index out of range",
     "output_type": "error",
     "traceback": [
      "\u001b[0;31m---------------------------------------------------------------------------\u001b[0m",
      "\u001b[0;31mIndexError\u001b[0m                                Traceback (most recent call last)",
      "\u001b[0;32m<ipython-input-17-26bab0f33f51>\u001b[0m in \u001b[0;36m<module>\u001b[0;34m()\u001b[0m\n\u001b[0;32m----> 1\u001b[0;31m \u001b[0ma\u001b[0m\u001b[0;34m=\u001b[0m\u001b[0;34m(\u001b[0m\u001b[0mcur\u001b[0m\u001b[0;34m.\u001b[0m\u001b[0mfetchall\u001b[0m\u001b[0;34m(\u001b[0m\u001b[0;34m)\u001b[0m\u001b[0;34m)\u001b[0m\u001b[0;34m[\u001b[0m\u001b[0;36m0\u001b[0m\u001b[0;34m]\u001b[0m\u001b[0;34m[\u001b[0m\u001b[0;36m0\u001b[0m\u001b[0;34m]\u001b[0m\u001b[0;34m\u001b[0m\u001b[0m\n\u001b[0m",
      "\u001b[0;31mIndexError\u001b[0m: tuple index out of range"
     ]
    }
   ],
   "source": [
    "a=(cur.fetchall())[0][0]"
   ]
  },
  {
   "cell_type": "code",
   "execution_count": 18,
   "metadata": {},
   "outputs": [
    {
     "data": {
      "text/plain": [
       "datetime.datetime(2017, 5, 6, 0, 0)"
      ]
     },
     "execution_count": 18,
     "metadata": {},
     "output_type": "execute_result"
    }
   ],
   "source": [
    "a"
   ]
  },
  {
   "cell_type": "code",
   "execution_count": 19,
   "metadata": {},
   "outputs": [
    {
     "ename": "TypeError",
     "evalue": "'datetime.datetime' object has no attribute '__getitem__'",
     "output_type": "error",
     "traceback": [
      "\u001b[0;31m---------------------------------------------------------------------------\u001b[0m",
      "\u001b[0;31mTypeError\u001b[0m                                 Traceback (most recent call last)",
      "\u001b[0;32m<ipython-input-19-714c98b93fcd>\u001b[0m in \u001b[0;36m<module>\u001b[0;34m()\u001b[0m\n\u001b[0;32m----> 1\u001b[0;31m \u001b[0ma\u001b[0m\u001b[0;34m[\u001b[0m\u001b[0;36m0\u001b[0m\u001b[0;34m]\u001b[0m\u001b[0;34m[\u001b[0m\u001b[0;36m0\u001b[0m\u001b[0;34m]\u001b[0m\u001b[0;34m\u001b[0m\u001b[0m\n\u001b[0m",
      "\u001b[0;31mTypeError\u001b[0m: 'datetime.datetime' object has no attribute '__getitem__'"
     ]
    }
   ],
   "source": [
    "a[0][0]"
   ]
  },
  {
   "cell_type": "code",
   "execution_count": 20,
   "metadata": {},
   "outputs": [
    {
     "data": {
      "text/plain": [
       "10L"
      ]
     },
     "execution_count": 20,
     "metadata": {},
     "output_type": "execute_result"
    }
   ],
   "source": [
    "cur.execute(\"select gradient from weekly_gradient order by gradient asc limit 10\")"
   ]
  },
  {
   "cell_type": "code",
   "execution_count": 21,
   "metadata": {},
   "outputs": [
    {
     "data": {
      "text/plain": [
       "(('-0.165057203604',),\n",
       " ('-0.281275589754',),\n",
       " ('-0.805461172421',),\n",
       " ('-1.35117555938',),\n",
       " ('-1.61570466741',),\n",
       " ('-18.7045164524',),\n",
       " ('-2.17052394452',),\n",
       " ('-22.6280615572',),\n",
       " ('-24.5481109649',),\n",
       " ('-27.3571014478',))"
      ]
     },
     "execution_count": 21,
     "metadata": {},
     "output_type": "execute_result"
    }
   ],
   "source": [
    "cur.fetchall()"
   ]
  },
  {
   "cell_type": "code",
   "execution_count": 22,
   "metadata": {
    "collapsed": true
   },
   "outputs": [],
   "source": [
    "import datetime\n",
    "a=datetime.datetime(2017,3,23)"
   ]
  },
  {
   "cell_type": "code",
   "execution_count": 23,
   "metadata": {
    "collapsed": true
   },
   "outputs": [],
   "source": [
    "diff=datetime.timedelta(7)"
   ]
  },
  {
   "cell_type": "code",
   "execution_count": 24,
   "metadata": {},
   "outputs": [
    {
     "data": {
      "text/plain": [
       "datetime.datetime(2017, 4, 6, 0, 0)"
      ]
     },
     "execution_count": 24,
     "metadata": {},
     "output_type": "execute_result"
    }
   ],
   "source": [
    "a+diff+diff"
   ]
  },
  {
   "cell_type": "code",
   "execution_count": 25,
   "metadata": {
    "collapsed": true
   },
   "outputs": [],
   "source": [
    "import pandas as pd"
   ]
  },
  {
   "cell_type": "code",
   "execution_count": 26,
   "metadata": {},
   "outputs": [
    {
     "data": {
      "text/plain": [
       "\"(0.7018811394002034, 'POS')\""
      ]
     },
     "execution_count": 26,
     "metadata": {},
     "output_type": "execute_result"
    }
   ],
   "source": [
    "a=pd.read_csv('fuzzified.csv')\n",
    "a.iloc[0][\"G\"]"
   ]
  },
  {
   "cell_type": "code",
   "execution_count": 27,
   "metadata": {},
   "outputs": [
    {
     "data": {
      "text/plain": [
       "{'G': 0        (0.7018811394002034, 'POS')\n",
       " 1        (-0.8513776680513344, 'VN')\n",
       " 2        (-0.8991012206508773, 'VN')\n",
       " 3          (0.367751950312111, 'SP')\n",
       " 4       (0.14623219466011733, 'NTR')\n",
       " 5       (-0.1905336936571371, 'NTR')\n",
       " 6         (0.2872731689815055, 'SP')\n",
       " 7         (0.9658278363699436, 'VP')\n",
       " 8        (-0.8123419647774242, 'VN')\n",
       " 9        (-0.3078278038498115, 'SN')\n",
       " 10      (0.10432808515486466, 'NTR')\n",
       " 11       (0.48526561953644515, 'SP')\n",
       " 12       (-0.4002807631833294, 'SN')\n",
       " 13       (-0.9999424013650364, 'VN')\n",
       " 14       (0.5287862126635763, 'POS')\n",
       " 15       (0.49112984213563693, 'SP')\n",
       " 16    (-0.012853837475823658, 'NTR')\n",
       " 17       (0.5899861061974444, 'POS')\n",
       " 18        (0.8236884318047222, 'VP')\n",
       " 19       (0.5185771927019341, 'POS')\n",
       " 20      (0.15362304149736733, 'NTR')\n",
       " 21       (0.0861092969765519, 'NTR')\n",
       " 22       (0.35228274740605453, 'SP')\n",
       " 23        (-0.874086295158527, 'VN')\n",
       " 24       (-0.3837563642255304, 'SN')\n",
       " 25       (-0.9902157849835128, 'VN')\n",
       " 26       (-0.9980431279203467, 'VN')\n",
       " 27       (-0.9992181852626774, 'VN')\n",
       " 28       (0.7440515732765627, 'POS')\n",
       " 29     (0.059158812761803264, 'NTR')\n",
       "                    ...              \n",
       " 68        (0.4072480752936424, 'SP')\n",
       " 69       (0.29568506306898545, 'SP')\n",
       " 70      (0.14220446592928696, 'NTR')\n",
       " 71      (0.08795673421188106, 'NTR')\n",
       " 72     (0.059158812761803264, 'NTR')\n",
       " 73       (0.6921864580417039, 'POS')\n",
       " 74        (-0.999998188371683, 'VN')\n",
       " 75         (0.257425895602148, 'SP')\n",
       " 76       (0.49113727082935266, 'SP')\n",
       " 77       (-0.8513776680513344, 'VN')\n",
       " 78       (0.5396895620507522, 'POS')\n",
       " 79       (0.6583622874636934, 'POS')\n",
       " 80       (-0.8090152020521973, 'VN')\n",
       " 81       (0.39061763556273454, 'SP')\n",
       " 82         (0.796568079929652, 'VP')\n",
       " 83        (-0.979881276442276, 'VN')\n",
       " 84      (-0.6681364411054588, 'NEG')\n",
       " 85      (-0.7465192731824619, 'NEG')\n",
       " 86       (-0.9293412075829445, 'VN')\n",
       " 87       (-0.9515686087281656, 'VN')\n",
       " 88      (-0.6943366459623272, 'NEG')\n",
       " 89       (0.1833734760545946, 'NTR')\n",
       " 90        (0.7577895946137368, 'VP')\n",
       " 91       (-0.2862013540908668, 'SN')\n",
       " 92      (0.16205237576450304, 'NTR')\n",
       " 93       (-0.9820352595460937, 'VN')\n",
       " 94        (0.3639966836608049, 'SP')\n",
       " 95        (-0.909676090210708, 'VN')\n",
       " 96         (0.440519754738427, 'SP')\n",
       " 97     (-0.04453695152878052, 'NTR')\n",
       " Name: G, Length: 98, dtype: object,\n",
       " 'RES': 0       (0.40924544810779045, 'POS')\n",
       " 1        (-0.886029401056918, 'NEG')\n",
       " 2        (-0.753897771854757, 'NEG')\n",
       " 3       (0.25189069383587576, 'POS')\n",
       " 4       (0.04282439056027565, 'NTR')\n",
       " 5       (0.11116403753142426, 'NTR')\n",
       " 6        (-0.222308509081268, 'NTR')\n",
       " 7       (-0.9273538591665699, 'NEG')\n",
       " 8        (0.9335981500171932, 'POS')\n",
       " 9        (0.1474068106664185, 'NTR')\n",
       " 10      (0.04282439056027565, 'NTR')\n",
       " 11      (0.16064814736477961, 'NTR')\n",
       " 12       (-0.753897771854757, 'NEG')\n",
       " 13      (-0.9273538591665699, 'NEG')\n",
       " 14      (-0.9273538591665699, 'NEG')\n",
       " 15     (-0.13985257510674245, 'NTR')\n",
       " 16    (-0.011250548875261885, 'NTR')\n",
       " 17     (-0.13985257510674245, 'NTR')\n",
       " 18      (0.40924544810779045, 'POS')\n",
       " 19      (0.40924544810779045, 'POS')\n",
       " 20       (0.1864282002300546, 'NTR')\n",
       " 21    (-0.011250548875261885, 'NTR')\n",
       " 22     (-0.14598162297832795, 'NTR')\n",
       " 23       (0.3079235691836362, 'POS')\n",
       " 24    (0.0065584277834364125, 'NTR')\n",
       " 25       (-0.753897771854757, 'NEG')\n",
       " 26      (-0.9273538591665699, 'NEG')\n",
       " 27       (-0.798436432707491, 'NEG')\n",
       " 28       (0.3079235691836362, 'POS')\n",
       " 29       (0.1474068106664185, 'NTR')\n",
       "                    ...              \n",
       " 68     (-0.13985257510674245, 'NTR')\n",
       " 69       (-0.753897771854757, 'NEG')\n",
       " 70      (0.16064814736477961, 'NTR')\n",
       " 71     (-0.14598162297832795, 'NTR')\n",
       " 72       (0.1474068106664185, 'NTR')\n",
       " 73    (0.0065584277834364125, 'NTR')\n",
       " 74      (0.46761936775704954, 'POS')\n",
       " 75      (0.16064814736477961, 'NTR')\n",
       " 76      (0.04652890194274601, 'NTR')\n",
       " 77       (-0.886029401056918, 'NEG')\n",
       " 78     (-0.15032962302062028, 'NTR')\n",
       " 79       (-0.798436432707491, 'NEG')\n",
       " 80      (0.04652890194274601, 'NTR')\n",
       " 81      (0.11116403753142426, 'NTR')\n",
       " 82      (0.23698735704271037, 'NTR')\n",
       " 83       (0.8726458277724959, 'POS')\n",
       " 84      (0.40924544810779045, 'POS')\n",
       " 85     (-0.12247458110455492, 'NTR')\n",
       " 86       (0.8726458277724959, 'POS')\n",
       " 87       (0.3079235691836362, 'POS')\n",
       " 88      (-0.9273538591665699, 'NEG')\n",
       " 89       (0.1474068106664185, 'NTR')\n",
       " 90      (0.23698735704271037, 'NTR')\n",
       " 91       (0.3108129949736945, 'POS')\n",
       " 92    (-0.006602192214126525, 'NTR')\n",
       " 93       (0.6287870976950406, 'POS')\n",
       " 94    (-0.011250548875261885, 'NTR')\n",
       " 95      (-0.0539944585549283, 'NTR')\n",
       " 96      (0.04652890194274601, 'NTR')\n",
       " 97      (-0.3291918022750512, 'NEG')\n",
       " Name: RES, Length: 98, dtype: object,\n",
       " 'SA': 0       (-0.1447065576923077, 'NTR')\n",
       " 1       (-0.33557869230769233, 'SN')\n",
       " 2       (-0.39866173214285716, 'SN')\n",
       " 3       (0.13743509999999998, 'NTR')\n",
       " 4             (0.08597859375, 'NTR')\n",
       " 5       (0.19336449666666666, 'NTR')\n",
       " 6       (0.08046881538461538, 'NTR')\n",
       " 7       (-0.21047630769230766, 'SN')\n",
       " 8      (-0.02925609736842106, 'NTR')\n",
       " 9      (-0.01165222727272728, 'NTR')\n",
       " 10      (0.10271566666666668, 'NTR')\n",
       " 11     (-0.17792589687500002, 'NTR')\n",
       " 12               (-0.1480882, 'NTR')\n",
       " 13      (-0.31355661785714284, 'SN')\n",
       " 14               (-0.1218925, 'NTR')\n",
       " 15      (-0.43060049999999994, 'SN')\n",
       " 16     (-0.15476975000000004, 'NTR')\n",
       " 17      (-0.33681763164374995, 'SN')\n",
       " 18      (-0.22657722142857145, 'SN')\n",
       " 19               (-0.95827525, 'VN')\n",
       " 20      (0.04209281666666665, 'NTR')\n",
       " 21     (-0.11057822222222223, 'NTR')\n",
       " 22             (-0.030946405, 'NTR')\n",
       " 23     (-0.13182130357142857, 'NTR')\n",
       " 24              (-0.06415895, 'NTR')\n",
       " 25       (-0.2948884846153846, 'SN')\n",
       " 26       (-0.2629780892857143, 'SN')\n",
       " 27      (-0.42457729166666663, 'SN')\n",
       " 28    (-0.022835528571428575, 'NTR')\n",
       " 29      (-0.29324669545454546, 'SN')\n",
       "                    ...              \n",
       " 68     (-0.10722852307692309, 'NTR')\n",
       " 69                  (0.267906, 'SP')\n",
       " 70      (0.06475697083333333, 'NTR')\n",
       " 71      (-0.21002334499999997, 'SN')\n",
       " 72      (-0.29324669545454546, 'SN')\n",
       " 73     (-0.05771335305555555, 'NTR')\n",
       " 74     (-0.08772979999999997, 'NTR')\n",
       " 75     (-0.08430682083333331, 'NTR')\n",
       " 76     (0.011358134999999991, 'NTR')\n",
       " 77      (-0.33557869230769233, 'SN')\n",
       " 78              (-0.313929625, 'SN')\n",
       " 79      (-0.22894315714285715, 'SN')\n",
       " 80      (-0.42576742857142863, 'SN')\n",
       " 81     (-0.16389111666666667, 'NTR')\n",
       " 82                 (-0.389786, 'SN')\n",
       " 83                (-0.123345, 'NTR')\n",
       " 84      (-0.6480035500000001, 'NEG')\n",
       " 85     (0.005929220000000024, 'NTR')\n",
       " 86      (-0.1917965514285714, 'NTR')\n",
       " 87           (-0.385855346875, 'SN')\n",
       " 88          (-0.030480534375, 'NTR')\n",
       " 89     (0.002722775000000003, 'NTR')\n",
       " 90             (-0.063233835, 'NTR')\n",
       " 91      (-0.7347219666666667, 'NEG')\n",
       " 92     (-0.12382074458333335, 'NTR')\n",
       " 93      (-0.6927318499999999, 'NEG')\n",
       " 94     (-0.10733002307692306, 'NTR')\n",
       " 95       (-0.2519784666666666, 'SN')\n",
       " 96       (0.24916574090909088, 'SP')\n",
       " 97      (0.09002745833333332, 'NTR')\n",
       " Name: SA, Length: 98, dtype: object,\n",
       " 'Unnamed: 0': 0      0\n",
       " 1      1\n",
       " 2      2\n",
       " 3      3\n",
       " 4      4\n",
       " 5      5\n",
       " 6      6\n",
       " 7      7\n",
       " 8      8\n",
       " 9      9\n",
       " 10    10\n",
       " 11    11\n",
       " 12    12\n",
       " 13    13\n",
       " 14    14\n",
       " 15    15\n",
       " 16    16\n",
       " 17    17\n",
       " 18    18\n",
       " 19    19\n",
       " 20    20\n",
       " 21    21\n",
       " 22    22\n",
       " 23    23\n",
       " 24    24\n",
       " 25    25\n",
       " 26    26\n",
       " 27    27\n",
       " 28    28\n",
       " 29    29\n",
       "       ..\n",
       " 68    68\n",
       " 69    69\n",
       " 70    70\n",
       " 71    71\n",
       " 72    72\n",
       " 73    73\n",
       " 74    74\n",
       " 75    75\n",
       " 76    76\n",
       " 77    77\n",
       " 78    78\n",
       " 79    79\n",
       " 80    80\n",
       " 81    81\n",
       " 82    82\n",
       " 83    83\n",
       " 84    84\n",
       " 85    85\n",
       " 86    86\n",
       " 87    87\n",
       " 88    88\n",
       " 89    89\n",
       " 90    90\n",
       " 91    91\n",
       " 92    92\n",
       " 93    93\n",
       " 94    94\n",
       " 95    95\n",
       " 96    96\n",
       " 97    97\n",
       " Name: Unnamed: 0, Length: 98, dtype: int64}"
      ]
     },
     "execution_count": 27,
     "metadata": {},
     "output_type": "execute_result"
    }
   ],
   "source": [
    "dict(a)\n"
   ]
  },
  {
   "cell_type": "code",
   "execution_count": 28,
   "metadata": {},
   "outputs": [
    {
     "data": {
      "text/plain": [
       "3L"
      ]
     },
     "execution_count": 28,
     "metadata": {},
     "output_type": "execute_result"
    }
   ],
   "source": [
    "cur.execute('show tables;')"
   ]
  },
  {
   "cell_type": "code",
   "execution_count": 29,
   "metadata": {},
   "outputs": [
    {
     "data": {
      "text/plain": [
       "(('coindesk_articles',), ('daily_gradient',), ('weekly_gradient',))"
      ]
     },
     "execution_count": 29,
     "metadata": {},
     "output_type": "execute_result"
    }
   ],
   "source": [
    "cur.fetchall()"
   ]
  },
  {
   "cell_type": "code",
   "execution_count": 47,
   "metadata": {
    "collapsed": true
   },
   "outputs": [],
   "source": [
    "import requests\n",
    "res=requests.get(\"https://api.coindesk.com/v1/bpi/historical/close.json?start=2017-09-01&end=2017-09-05\")"
   ]
  },
  {
   "cell_type": "code",
   "execution_count": 48,
   "metadata": {},
   "outputs": [
    {
     "data": {
      "text/plain": [
       "<Response [200]>"
      ]
     },
     "execution_count": 48,
     "metadata": {},
     "output_type": "execute_result"
    }
   ],
   "source": [
    "res"
   ]
  },
  {
   "cell_type": "code",
   "execution_count": 49,
   "metadata": {
    "collapsed": true
   },
   "outputs": [],
   "source": [
    "a=res.json()"
   ]
  },
  {
   "cell_type": "code",
   "execution_count": 50,
   "metadata": {},
   "outputs": [
    {
     "data": {
      "text/plain": [
       "{u'2017-09-01': 4950.7238,\n",
       " u'2017-09-02': 4643.975,\n",
       " u'2017-09-03': 4631.695,\n",
       " u'2017-09-04': 4319.7213,\n",
       " u'2017-09-05': 4422.1213}"
      ]
     },
     "execution_count": 50,
     "metadata": {},
     "output_type": "execute_result"
    }
   ],
   "source": [
    "a[\"bpi\"]"
   ]
  },
  {
   "cell_type": "code",
   "execution_count": 62,
   "metadata": {
    "collapsed": true
   },
   "outputs": [],
   "source": [
    "data=pd.read_csv('bitcoindata.csv',names=['date','price'])"
   ]
  },
  {
   "cell_type": "code",
   "execution_count": 85,
   "metadata": {},
   "outputs": [
    {
     "data": {
      "text/plain": [
       "'2017-09-11 11:00'"
      ]
     },
     "execution_count": 85,
     "metadata": {},
     "output_type": "execute_result"
    }
   ],
   "source": [
    "time=datetime.datetime(2017,9,11,11,0)\n",
    "time=str(time)[:-3]\n",
    "time"
   ]
  },
  {
   "cell_type": "code",
   "execution_count": 92,
   "metadata": {
    "collapsed": true
   },
   "outputs": [],
   "source": [
    "idx=data[data[\"date\"]==time].index[0]"
   ]
  },
  {
   "cell_type": "code",
   "execution_count": 94,
   "metadata": {
    "collapsed": true
   },
   "outputs": [],
   "source": [
    "prices=data.iloc[idx-256:idx][\"price\"]"
   ]
  },
  {
   "cell_type": "code",
   "execution_count": 98,
   "metadata": {},
   "outputs": [
    {
     "ename": "AttributeError",
     "evalue": "'Series' object has no attribute 'columns'",
     "output_type": "error",
     "traceback": [
      "\u001b[0;31m---------------------------------------------------------------------------\u001b[0m",
      "\u001b[0;31mAttributeError\u001b[0m                            Traceback (most recent call last)",
      "\u001b[0;32m<ipython-input-98-a28848c28b8d>\u001b[0m in \u001b[0;36m<module>\u001b[0;34m()\u001b[0m\n\u001b[0;32m----> 1\u001b[0;31m \u001b[0mprices\u001b[0m\u001b[0;34m.\u001b[0m\u001b[0mcolumns\u001b[0m\u001b[0;34m\u001b[0m\u001b[0m\n\u001b[0m",
      "\u001b[0;32m/Users/vishnuchopra/anaconda3/envs/vcenv2/lib/python2.7/site-packages/pandas/core/generic.pyc\u001b[0m in \u001b[0;36m__getattr__\u001b[0;34m(self, name)\u001b[0m\n\u001b[1;32m   2964\u001b[0m         if (name in self._internal_names_set or name in self._metadata or\n\u001b[1;32m   2965\u001b[0m                 name in self._accessors):\n\u001b[0;32m-> 2966\u001b[0;31m             \u001b[0;32mreturn\u001b[0m \u001b[0mobject\u001b[0m\u001b[0;34m.\u001b[0m\u001b[0m__getattribute__\u001b[0m\u001b[0;34m(\u001b[0m\u001b[0mself\u001b[0m\u001b[0;34m,\u001b[0m \u001b[0mname\u001b[0m\u001b[0;34m)\u001b[0m\u001b[0;34m\u001b[0m\u001b[0m\n\u001b[0m\u001b[1;32m   2967\u001b[0m         \u001b[0;32melse\u001b[0m\u001b[0;34m:\u001b[0m\u001b[0;34m\u001b[0m\u001b[0m\n\u001b[1;32m   2968\u001b[0m             \u001b[0;32mif\u001b[0m \u001b[0mname\u001b[0m \u001b[0;32min\u001b[0m \u001b[0mself\u001b[0m\u001b[0;34m.\u001b[0m\u001b[0m_info_axis\u001b[0m\u001b[0;34m:\u001b[0m\u001b[0;34m\u001b[0m\u001b[0m\n",
      "\u001b[0;31mAttributeError\u001b[0m: 'Series' object has no attribute 'columns'"
     ]
    }
   ],
   "source": []
  },
  {
   "cell_type": "code",
   "execution_count": 1,
   "metadata": {
    "collapsed": true
   },
   "outputs": [],
   "source": [
    "import pandas as pd"
   ]
  },
  {
   "cell_type": "code",
   "execution_count": 16,
   "metadata": {},
   "outputs": [
    {
     "data": {
      "text/plain": [
       "495"
      ]
     },
     "execution_count": 16,
     "metadata": {},
     "output_type": "execute_result"
    }
   ],
   "source": [
    "df=pd.read_csv('fuzzified4.csv')\n",
    "len(df)"
   ]
  },
  {
   "cell_type": "code",
   "execution_count": 35,
   "metadata": {},
   "outputs": [],
   "source": [
    "df2=df[df[\"MLP\"]!=0.0]\n",
    "a=df2[df2[\"MLP\"]!=1.0]"
   ]
  },
  {
   "cell_type": "code",
   "execution_count": 36,
   "metadata": {},
   "outputs": [
    {
     "data": {
      "text/html": [
       "<div>\n",
       "<style>\n",
       "    .dataframe thead tr:only-child th {\n",
       "        text-align: right;\n",
       "    }\n",
       "\n",
       "    .dataframe thead th {\n",
       "        text-align: left;\n",
       "    }\n",
       "\n",
       "    .dataframe tbody tr th {\n",
       "        vertical-align: top;\n",
       "    }\n",
       "</style>\n",
       "<table border=\"1\" class=\"dataframe\">\n",
       "  <thead>\n",
       "    <tr style=\"text-align: right;\">\n",
       "      <th></th>\n",
       "      <th>Unnamed: 0</th>\n",
       "      <th>G</th>\n",
       "      <th>MLP</th>\n",
       "      <th>RES</th>\n",
       "      <th>SA</th>\n",
       "      <th>date</th>\n",
       "    </tr>\n",
       "  </thead>\n",
       "  <tbody>\n",
       "    <tr>\n",
       "      <th>2</th>\n",
       "      <td>2</td>\n",
       "      <td>-0.874374</td>\n",
       "      <td>0.123332</td>\n",
       "      <td>NTR</td>\n",
       "      <td>0.439003</td>\n",
       "      <td>2017-10-15 23:00:00</td>\n",
       "    </tr>\n",
       "    <tr>\n",
       "      <th>19</th>\n",
       "      <td>19</td>\n",
       "      <td>0.518577</td>\n",
       "      <td>0.105602</td>\n",
       "      <td>POS</td>\n",
       "      <td>-0.958275</td>\n",
       "      <td>2017-11-12 23:00:00</td>\n",
       "    </tr>\n",
       "    <tr>\n",
       "      <th>26</th>\n",
       "      <td>26</td>\n",
       "      <td>0.968891</td>\n",
       "      <td>0.844680</td>\n",
       "      <td>NEG</td>\n",
       "      <td>0.211687</td>\n",
       "      <td>2017-12-17 23:00:00</td>\n",
       "    </tr>\n",
       "    <tr>\n",
       "      <th>30</th>\n",
       "      <td>30</td>\n",
       "      <td>0.124772</td>\n",
       "      <td>0.860490</td>\n",
       "      <td>NTR</td>\n",
       "      <td>-0.155440</td>\n",
       "      <td>2017-09-21 23:00:00</td>\n",
       "    </tr>\n",
       "    <tr>\n",
       "      <th>32</th>\n",
       "      <td>32</td>\n",
       "      <td>0.363997</td>\n",
       "      <td>0.299765</td>\n",
       "      <td>NTR</td>\n",
       "      <td>-0.107330</td>\n",
       "      <td>2017-10-06 23:00:00</td>\n",
       "    </tr>\n",
       "    <tr>\n",
       "      <th>37</th>\n",
       "      <td>37</td>\n",
       "      <td>-0.998043</td>\n",
       "      <td>0.840916</td>\n",
       "      <td>NEG</td>\n",
       "      <td>-0.262978</td>\n",
       "      <td>2018-01-17 23:00:00</td>\n",
       "    </tr>\n",
       "    <tr>\n",
       "      <th>39</th>\n",
       "      <td>39</td>\n",
       "      <td>0.701881</td>\n",
       "      <td>0.971662</td>\n",
       "      <td>POS</td>\n",
       "      <td>-0.144707</td>\n",
       "      <td>2017-11-15 23:00:00</td>\n",
       "    </tr>\n",
       "    <tr>\n",
       "      <th>40</th>\n",
       "      <td>40</td>\n",
       "      <td>-0.309078</td>\n",
       "      <td>0.594438</td>\n",
       "      <td>POS</td>\n",
       "      <td>-0.259624</td>\n",
       "      <td>2017-11-14 23:00:00</td>\n",
       "    </tr>\n",
       "    <tr>\n",
       "      <th>41</th>\n",
       "      <td>41</td>\n",
       "      <td>0.104328</td>\n",
       "      <td>0.943143</td>\n",
       "      <td>NTR</td>\n",
       "      <td>0.102716</td>\n",
       "      <td>2017-08-03 23:00:00</td>\n",
       "    </tr>\n",
       "    <tr>\n",
       "      <th>45</th>\n",
       "      <td>45</td>\n",
       "      <td>-0.427613</td>\n",
       "      <td>0.313823</td>\n",
       "      <td>POS</td>\n",
       "      <td>-0.343994</td>\n",
       "      <td>2017-07-15 23:00:00</td>\n",
       "    </tr>\n",
       "    <tr>\n",
       "      <th>46</th>\n",
       "      <td>46</td>\n",
       "      <td>-0.997257</td>\n",
       "      <td>0.884280</td>\n",
       "      <td>NEG</td>\n",
       "      <td>-0.026353</td>\n",
       "      <td>2018-01-14 23:00:00</td>\n",
       "    </tr>\n",
       "    <tr>\n",
       "      <th>49</th>\n",
       "      <td>49</td>\n",
       "      <td>-0.958552</td>\n",
       "      <td>0.083047</td>\n",
       "      <td>NEG</td>\n",
       "      <td>-0.113425</td>\n",
       "      <td>2018-01-09 23:00:00</td>\n",
       "    </tr>\n",
       "    <tr>\n",
       "      <th>51</th>\n",
       "      <td>51</td>\n",
       "      <td>0.304223</td>\n",
       "      <td>0.437341</td>\n",
       "      <td>POS</td>\n",
       "      <td>-0.199539</td>\n",
       "      <td>2017-07-18 23:00:00</td>\n",
       "    </tr>\n",
       "    <tr>\n",
       "      <th>52</th>\n",
       "      <td>52</td>\n",
       "      <td>-0.404056</td>\n",
       "      <td>0.056662</td>\n",
       "      <td>NTR</td>\n",
       "      <td>-0.221354</td>\n",
       "      <td>2017-10-27 23:00:00</td>\n",
       "    </tr>\n",
       "    <tr>\n",
       "      <th>53</th>\n",
       "      <td>53</td>\n",
       "      <td>-0.404056</td>\n",
       "      <td>0.056662</td>\n",
       "      <td>NTR</td>\n",
       "      <td>-0.221354</td>\n",
       "      <td>2017-10-27 23:00:00</td>\n",
       "    </tr>\n",
       "    <tr>\n",
       "      <th>57</th>\n",
       "      <td>57</td>\n",
       "      <td>-0.899101</td>\n",
       "      <td>0.932209</td>\n",
       "      <td>NEG</td>\n",
       "      <td>-0.398662</td>\n",
       "      <td>2018-01-29 23:00:00</td>\n",
       "    </tr>\n",
       "    <tr>\n",
       "      <th>58</th>\n",
       "      <td>58</td>\n",
       "      <td>0.518577</td>\n",
       "      <td>0.105602</td>\n",
       "      <td>POS</td>\n",
       "      <td>-0.958275</td>\n",
       "      <td>2017-11-12 23:00:00</td>\n",
       "    </tr>\n",
       "    <tr>\n",
       "      <th>61</th>\n",
       "      <td>61</td>\n",
       "      <td>-0.309078</td>\n",
       "      <td>0.594438</td>\n",
       "      <td>POS</td>\n",
       "      <td>-0.259624</td>\n",
       "      <td>2017-11-14 23:00:00</td>\n",
       "    </tr>\n",
       "    <tr>\n",
       "      <th>62</th>\n",
       "      <td>62</td>\n",
       "      <td>-0.749326</td>\n",
       "      <td>0.239864</td>\n",
       "      <td>NTR</td>\n",
       "      <td>-0.285504</td>\n",
       "      <td>2017-09-02 23:00:00</td>\n",
       "    </tr>\n",
       "    <tr>\n",
       "      <th>70</th>\n",
       "      <td>70</td>\n",
       "      <td>-0.909676</td>\n",
       "      <td>0.622129</td>\n",
       "      <td>NTR</td>\n",
       "      <td>-0.251978</td>\n",
       "      <td>2017-09-15 23:00:00</td>\n",
       "    </tr>\n",
       "    <tr>\n",
       "      <th>76</th>\n",
       "      <td>76</td>\n",
       "      <td>-0.637838</td>\n",
       "      <td>0.740587</td>\n",
       "      <td>NTR</td>\n",
       "      <td>-0.114934</td>\n",
       "      <td>2017-09-14 23:00:00</td>\n",
       "    </tr>\n",
       "    <tr>\n",
       "      <th>81</th>\n",
       "      <td>81</td>\n",
       "      <td>0.705307</td>\n",
       "      <td>0.357789</td>\n",
       "      <td>NTR</td>\n",
       "      <td>0.088935</td>\n",
       "      <td>2017-09-18 23:00:00</td>\n",
       "    </tr>\n",
       "    <tr>\n",
       "      <th>83</th>\n",
       "      <td>83</td>\n",
       "      <td>0.257426</td>\n",
       "      <td>0.918117</td>\n",
       "      <td>NTR</td>\n",
       "      <td>-0.084307</td>\n",
       "      <td>2017-09-25 23:00:00</td>\n",
       "    </tr>\n",
       "    <tr>\n",
       "      <th>86</th>\n",
       "      <td>86</td>\n",
       "      <td>-0.810258</td>\n",
       "      <td>0.796506</td>\n",
       "      <td>NTR</td>\n",
       "      <td>-0.058856</td>\n",
       "      <td>2017-11-10 23:00:00</td>\n",
       "    </tr>\n",
       "    <tr>\n",
       "      <th>91</th>\n",
       "      <td>91</td>\n",
       "      <td>-0.749326</td>\n",
       "      <td>0.239864</td>\n",
       "      <td>NTR</td>\n",
       "      <td>-0.285504</td>\n",
       "      <td>2017-09-02 23:00:00</td>\n",
       "    </tr>\n",
       "    <tr>\n",
       "      <th>93</th>\n",
       "      <td>93</td>\n",
       "      <td>-0.183286</td>\n",
       "      <td>0.062957</td>\n",
       "      <td>NTR</td>\n",
       "      <td>-0.251859</td>\n",
       "      <td>2017-07-30 23:00:00</td>\n",
       "    </tr>\n",
       "    <tr>\n",
       "      <th>94</th>\n",
       "      <td>94</td>\n",
       "      <td>0.324386</td>\n",
       "      <td>0.644822</td>\n",
       "      <td>NTR</td>\n",
       "      <td>0.148468</td>\n",
       "      <td>2017-08-11 23:00:00</td>\n",
       "    </tr>\n",
       "    <tr>\n",
       "      <th>99</th>\n",
       "      <td>99</td>\n",
       "      <td>-0.048283</td>\n",
       "      <td>0.947975</td>\n",
       "      <td>NTR</td>\n",
       "      <td>-0.117176</td>\n",
       "      <td>2017-08-29 23:00:00</td>\n",
       "    </tr>\n",
       "    <tr>\n",
       "      <th>100</th>\n",
       "      <td>100</td>\n",
       "      <td>0.968891</td>\n",
       "      <td>0.844680</td>\n",
       "      <td>NEG</td>\n",
       "      <td>0.211687</td>\n",
       "      <td>2017-12-17 23:00:00</td>\n",
       "    </tr>\n",
       "    <tr>\n",
       "      <th>101</th>\n",
       "      <td>101</td>\n",
       "      <td>0.996032</td>\n",
       "      <td>0.300706</td>\n",
       "      <td>POS</td>\n",
       "      <td>-0.192423</td>\n",
       "      <td>2017-12-07 23:00:00</td>\n",
       "    </tr>\n",
       "    <tr>\n",
       "      <th>...</th>\n",
       "      <td>...</td>\n",
       "      <td>...</td>\n",
       "      <td>...</td>\n",
       "      <td>...</td>\n",
       "      <td>...</td>\n",
       "      <td>...</td>\n",
       "    </tr>\n",
       "    <tr>\n",
       "      <th>394</th>\n",
       "      <td>394</td>\n",
       "      <td>-0.967279</td>\n",
       "      <td>0.718047</td>\n",
       "      <td>NTR</td>\n",
       "      <td>-0.557149</td>\n",
       "      <td>2018-03-14 23:00:00</td>\n",
       "    </tr>\n",
       "    <tr>\n",
       "      <th>398</th>\n",
       "      <td>398</td>\n",
       "      <td>-0.999514</td>\n",
       "      <td>0.422766</td>\n",
       "      <td>NEG</td>\n",
       "      <td>-0.168439</td>\n",
       "      <td>2018-01-26 23:00:00</td>\n",
       "    </tr>\n",
       "    <tr>\n",
       "      <th>399</th>\n",
       "      <td>399</td>\n",
       "      <td>0.048023</td>\n",
       "      <td>0.735096</td>\n",
       "      <td>NTR</td>\n",
       "      <td>0.060231</td>\n",
       "      <td>2017-08-02 23:00:00</td>\n",
       "    </tr>\n",
       "    <tr>\n",
       "      <th>403</th>\n",
       "      <td>403</td>\n",
       "      <td>-0.980760</td>\n",
       "      <td>0.599717</td>\n",
       "      <td>NEG</td>\n",
       "      <td>-0.130114</td>\n",
       "      <td>2018-01-08 23:00:00</td>\n",
       "    </tr>\n",
       "    <tr>\n",
       "      <th>407</th>\n",
       "      <td>407</td>\n",
       "      <td>-0.404056</td>\n",
       "      <td>0.056662</td>\n",
       "      <td>NTR</td>\n",
       "      <td>-0.221354</td>\n",
       "      <td>2017-10-27 23:00:00</td>\n",
       "    </tr>\n",
       "    <tr>\n",
       "      <th>410</th>\n",
       "      <td>410</td>\n",
       "      <td>0.365470</td>\n",
       "      <td>0.347268</td>\n",
       "      <td>NTR</td>\n",
       "      <td>-0.060774</td>\n",
       "      <td>2017-10-19 23:00:00</td>\n",
       "    </tr>\n",
       "    <tr>\n",
       "      <th>413</th>\n",
       "      <td>413</td>\n",
       "      <td>0.968891</td>\n",
       "      <td>0.844680</td>\n",
       "      <td>NEG</td>\n",
       "      <td>0.211687</td>\n",
       "      <td>2017-12-17 23:00:00</td>\n",
       "    </tr>\n",
       "    <tr>\n",
       "      <th>418</th>\n",
       "      <td>418</td>\n",
       "      <td>0.608657</td>\n",
       "      <td>0.625502</td>\n",
       "      <td>POS</td>\n",
       "      <td>0.132968</td>\n",
       "      <td>2017-11-01 23:00:00</td>\n",
       "    </tr>\n",
       "    <tr>\n",
       "      <th>420</th>\n",
       "      <td>420</td>\n",
       "      <td>0.701881</td>\n",
       "      <td>0.971662</td>\n",
       "      <td>POS</td>\n",
       "      <td>-0.144707</td>\n",
       "      <td>2017-11-15 23:00:00</td>\n",
       "    </tr>\n",
       "    <tr>\n",
       "      <th>425</th>\n",
       "      <td>425</td>\n",
       "      <td>-0.427613</td>\n",
       "      <td>0.313823</td>\n",
       "      <td>POS</td>\n",
       "      <td>-0.343994</td>\n",
       "      <td>2017-07-15 23:00:00</td>\n",
       "    </tr>\n",
       "    <tr>\n",
       "      <th>430</th>\n",
       "      <td>430</td>\n",
       "      <td>0.489716</td>\n",
       "      <td>0.931137</td>\n",
       "      <td>NTR</td>\n",
       "      <td>-0.064010</td>\n",
       "      <td>2017-08-23 23:00:00</td>\n",
       "    </tr>\n",
       "    <tr>\n",
       "      <th>435</th>\n",
       "      <td>435</td>\n",
       "      <td>0.744052</td>\n",
       "      <td>0.783114</td>\n",
       "      <td>POS</td>\n",
       "      <td>-0.022836</td>\n",
       "      <td>2018-02-14 23:00:00</td>\n",
       "    </tr>\n",
       "    <tr>\n",
       "      <th>436</th>\n",
       "      <td>436</td>\n",
       "      <td>-0.309078</td>\n",
       "      <td>0.594438</td>\n",
       "      <td>POS</td>\n",
       "      <td>-0.259624</td>\n",
       "      <td>2017-11-14 23:00:00</td>\n",
       "    </tr>\n",
       "    <tr>\n",
       "      <th>443</th>\n",
       "      <td>443</td>\n",
       "      <td>0.905336</td>\n",
       "      <td>0.508233</td>\n",
       "      <td>NTR</td>\n",
       "      <td>-0.014688</td>\n",
       "      <td>2017-10-12 23:00:00</td>\n",
       "    </tr>\n",
       "    <tr>\n",
       "      <th>446</th>\n",
       "      <td>446</td>\n",
       "      <td>0.201277</td>\n",
       "      <td>0.763502</td>\n",
       "      <td>POS</td>\n",
       "      <td>-0.030355</td>\n",
       "      <td>2017-10-31 23:00:00</td>\n",
       "    </tr>\n",
       "    <tr>\n",
       "      <th>449</th>\n",
       "      <td>449</td>\n",
       "      <td>0.201277</td>\n",
       "      <td>0.763502</td>\n",
       "      <td>POS</td>\n",
       "      <td>-0.030355</td>\n",
       "      <td>2017-10-31 23:00:00</td>\n",
       "    </tr>\n",
       "    <tr>\n",
       "      <th>454</th>\n",
       "      <td>454</td>\n",
       "      <td>-0.929341</td>\n",
       "      <td>0.225483</td>\n",
       "      <td>POS</td>\n",
       "      <td>-0.191797</td>\n",
       "      <td>2017-12-29 23:00:00</td>\n",
       "    </tr>\n",
       "    <tr>\n",
       "      <th>456</th>\n",
       "      <td>456</td>\n",
       "      <td>0.107181</td>\n",
       "      <td>0.887911</td>\n",
       "      <td>NTR</td>\n",
       "      <td>-0.061137</td>\n",
       "      <td>2017-11-20 23:00:00</td>\n",
       "    </tr>\n",
       "    <tr>\n",
       "      <th>458</th>\n",
       "      <td>458</td>\n",
       "      <td>0.796568</td>\n",
       "      <td>0.850668</td>\n",
       "      <td>NTR</td>\n",
       "      <td>-0.389786</td>\n",
       "      <td>2017-11-18 23:00:00</td>\n",
       "    </tr>\n",
       "    <tr>\n",
       "      <th>461</th>\n",
       "      <td>461</td>\n",
       "      <td>-0.524787</td>\n",
       "      <td>0.011747</td>\n",
       "      <td>NTR</td>\n",
       "      <td>-0.490519</td>\n",
       "      <td>2017-07-23 23:00:00</td>\n",
       "    </tr>\n",
       "    <tr>\n",
       "      <th>463</th>\n",
       "      <td>463</td>\n",
       "      <td>0.257426</td>\n",
       "      <td>0.918117</td>\n",
       "      <td>NTR</td>\n",
       "      <td>-0.084307</td>\n",
       "      <td>2017-09-25 23:00:00</td>\n",
       "    </tr>\n",
       "    <tr>\n",
       "      <th>464</th>\n",
       "      <td>464</td>\n",
       "      <td>0.146232</td>\n",
       "      <td>0.934323</td>\n",
       "      <td>NTR</td>\n",
       "      <td>0.085979</td>\n",
       "      <td>2017-07-31 23:00:00</td>\n",
       "    </tr>\n",
       "    <tr>\n",
       "      <th>466</th>\n",
       "      <td>466</td>\n",
       "      <td>-0.998043</td>\n",
       "      <td>0.840916</td>\n",
       "      <td>NEG</td>\n",
       "      <td>-0.262978</td>\n",
       "      <td>2018-01-17 23:00:00</td>\n",
       "    </tr>\n",
       "    <tr>\n",
       "      <th>471</th>\n",
       "      <td>471</td>\n",
       "      <td>-0.637838</td>\n",
       "      <td>0.740587</td>\n",
       "      <td>NTR</td>\n",
       "      <td>-0.114934</td>\n",
       "      <td>2017-09-14 23:00:00</td>\n",
       "    </tr>\n",
       "    <tr>\n",
       "      <th>472</th>\n",
       "      <td>472</td>\n",
       "      <td>-0.967279</td>\n",
       "      <td>0.718047</td>\n",
       "      <td>NTR</td>\n",
       "      <td>-0.557149</td>\n",
       "      <td>2018-03-14 23:00:00</td>\n",
       "    </tr>\n",
       "    <tr>\n",
       "      <th>474</th>\n",
       "      <td>474</td>\n",
       "      <td>-0.394913</td>\n",
       "      <td>0.115293</td>\n",
       "      <td>NTR</td>\n",
       "      <td>0.057013</td>\n",
       "      <td>2017-09-11 23:00:00</td>\n",
       "    </tr>\n",
       "    <tr>\n",
       "      <th>476</th>\n",
       "      <td>476</td>\n",
       "      <td>-0.048283</td>\n",
       "      <td>0.947975</td>\n",
       "      <td>NTR</td>\n",
       "      <td>-0.117176</td>\n",
       "      <td>2017-08-29 23:00:00</td>\n",
       "    </tr>\n",
       "    <tr>\n",
       "      <th>484</th>\n",
       "      <td>484</td>\n",
       "      <td>-0.980760</td>\n",
       "      <td>0.599717</td>\n",
       "      <td>NEG</td>\n",
       "      <td>-0.130114</td>\n",
       "      <td>2018-01-08 23:00:00</td>\n",
       "    </tr>\n",
       "    <tr>\n",
       "      <th>486</th>\n",
       "      <td>486</td>\n",
       "      <td>-0.524787</td>\n",
       "      <td>0.011747</td>\n",
       "      <td>NTR</td>\n",
       "      <td>-0.490519</td>\n",
       "      <td>2017-07-23 23:00:00</td>\n",
       "    </tr>\n",
       "    <tr>\n",
       "      <th>487</th>\n",
       "      <td>487</td>\n",
       "      <td>-0.394913</td>\n",
       "      <td>0.115293</td>\n",
       "      <td>NTR</td>\n",
       "      <td>0.057013</td>\n",
       "      <td>2017-09-11 23:00:00</td>\n",
       "    </tr>\n",
       "  </tbody>\n",
       "</table>\n",
       "<p>153 rows × 6 columns</p>\n",
       "</div>"
      ],
      "text/plain": [
       "     Unnamed: 0         G       MLP  RES        SA                 date\n",
       "2             2 -0.874374  0.123332  NTR  0.439003  2017-10-15 23:00:00\n",
       "19           19  0.518577  0.105602  POS -0.958275  2017-11-12 23:00:00\n",
       "26           26  0.968891  0.844680  NEG  0.211687  2017-12-17 23:00:00\n",
       "30           30  0.124772  0.860490  NTR -0.155440  2017-09-21 23:00:00\n",
       "32           32  0.363997  0.299765  NTR -0.107330  2017-10-06 23:00:00\n",
       "37           37 -0.998043  0.840916  NEG -0.262978  2018-01-17 23:00:00\n",
       "39           39  0.701881  0.971662  POS -0.144707  2017-11-15 23:00:00\n",
       "40           40 -0.309078  0.594438  POS -0.259624  2017-11-14 23:00:00\n",
       "41           41  0.104328  0.943143  NTR  0.102716  2017-08-03 23:00:00\n",
       "45           45 -0.427613  0.313823  POS -0.343994  2017-07-15 23:00:00\n",
       "46           46 -0.997257  0.884280  NEG -0.026353  2018-01-14 23:00:00\n",
       "49           49 -0.958552  0.083047  NEG -0.113425  2018-01-09 23:00:00\n",
       "51           51  0.304223  0.437341  POS -0.199539  2017-07-18 23:00:00\n",
       "52           52 -0.404056  0.056662  NTR -0.221354  2017-10-27 23:00:00\n",
       "53           53 -0.404056  0.056662  NTR -0.221354  2017-10-27 23:00:00\n",
       "57           57 -0.899101  0.932209  NEG -0.398662  2018-01-29 23:00:00\n",
       "58           58  0.518577  0.105602  POS -0.958275  2017-11-12 23:00:00\n",
       "61           61 -0.309078  0.594438  POS -0.259624  2017-11-14 23:00:00\n",
       "62           62 -0.749326  0.239864  NTR -0.285504  2017-09-02 23:00:00\n",
       "70           70 -0.909676  0.622129  NTR -0.251978  2017-09-15 23:00:00\n",
       "76           76 -0.637838  0.740587  NTR -0.114934  2017-09-14 23:00:00\n",
       "81           81  0.705307  0.357789  NTR  0.088935  2017-09-18 23:00:00\n",
       "83           83  0.257426  0.918117  NTR -0.084307  2017-09-25 23:00:00\n",
       "86           86 -0.810258  0.796506  NTR -0.058856  2017-11-10 23:00:00\n",
       "91           91 -0.749326  0.239864  NTR -0.285504  2017-09-02 23:00:00\n",
       "93           93 -0.183286  0.062957  NTR -0.251859  2017-07-30 23:00:00\n",
       "94           94  0.324386  0.644822  NTR  0.148468  2017-08-11 23:00:00\n",
       "99           99 -0.048283  0.947975  NTR -0.117176  2017-08-29 23:00:00\n",
       "100         100  0.968891  0.844680  NEG  0.211687  2017-12-17 23:00:00\n",
       "101         101  0.996032  0.300706  POS -0.192423  2017-12-07 23:00:00\n",
       "..          ...       ...       ...  ...       ...                  ...\n",
       "394         394 -0.967279  0.718047  NTR -0.557149  2018-03-14 23:00:00\n",
       "398         398 -0.999514  0.422766  NEG -0.168439  2018-01-26 23:00:00\n",
       "399         399  0.048023  0.735096  NTR  0.060231  2017-08-02 23:00:00\n",
       "403         403 -0.980760  0.599717  NEG -0.130114  2018-01-08 23:00:00\n",
       "407         407 -0.404056  0.056662  NTR -0.221354  2017-10-27 23:00:00\n",
       "410         410  0.365470  0.347268  NTR -0.060774  2017-10-19 23:00:00\n",
       "413         413  0.968891  0.844680  NEG  0.211687  2017-12-17 23:00:00\n",
       "418         418  0.608657  0.625502  POS  0.132968  2017-11-01 23:00:00\n",
       "420         420  0.701881  0.971662  POS -0.144707  2017-11-15 23:00:00\n",
       "425         425 -0.427613  0.313823  POS -0.343994  2017-07-15 23:00:00\n",
       "430         430  0.489716  0.931137  NTR -0.064010  2017-08-23 23:00:00\n",
       "435         435  0.744052  0.783114  POS -0.022836  2018-02-14 23:00:00\n",
       "436         436 -0.309078  0.594438  POS -0.259624  2017-11-14 23:00:00\n",
       "443         443  0.905336  0.508233  NTR -0.014688  2017-10-12 23:00:00\n",
       "446         446  0.201277  0.763502  POS -0.030355  2017-10-31 23:00:00\n",
       "449         449  0.201277  0.763502  POS -0.030355  2017-10-31 23:00:00\n",
       "454         454 -0.929341  0.225483  POS -0.191797  2017-12-29 23:00:00\n",
       "456         456  0.107181  0.887911  NTR -0.061137  2017-11-20 23:00:00\n",
       "458         458  0.796568  0.850668  NTR -0.389786  2017-11-18 23:00:00\n",
       "461         461 -0.524787  0.011747  NTR -0.490519  2017-07-23 23:00:00\n",
       "463         463  0.257426  0.918117  NTR -0.084307  2017-09-25 23:00:00\n",
       "464         464  0.146232  0.934323  NTR  0.085979  2017-07-31 23:00:00\n",
       "466         466 -0.998043  0.840916  NEG -0.262978  2018-01-17 23:00:00\n",
       "471         471 -0.637838  0.740587  NTR -0.114934  2017-09-14 23:00:00\n",
       "472         472 -0.967279  0.718047  NTR -0.557149  2018-03-14 23:00:00\n",
       "474         474 -0.394913  0.115293  NTR  0.057013  2017-09-11 23:00:00\n",
       "476         476 -0.048283  0.947975  NTR -0.117176  2017-08-29 23:00:00\n",
       "484         484 -0.980760  0.599717  NEG -0.130114  2018-01-08 23:00:00\n",
       "486         486 -0.524787  0.011747  NTR -0.490519  2017-07-23 23:00:00\n",
       "487         487 -0.394913  0.115293  NTR  0.057013  2017-09-11 23:00:00\n",
       "\n",
       "[153 rows x 6 columns]"
      ]
     },
     "execution_count": 36,
     "metadata": {},
     "output_type": "execute_result"
    }
   ],
   "source": [
    "a"
   ]
  },
  {
   "cell_type": "code",
   "execution_count": 37,
   "metadata": {
    "collapsed": true
   },
   "outputs": [],
   "source": [
    "import numpy as np\n",
    "import skfuzzy.control as ctrl\n",
    "import skfuzzy as fuzz"
   ]
  },
  {
   "cell_type": "code",
   "execution_count": 44,
   "metadata": {},
   "outputs": [],
   "source": [
    "x_mlp = np.arange(0,1.0,0.001)\n",
    "mlp=ctrl.Antecedent(x_mlp,'mlp')\n",
    "mlp['DRP']=fuzz.trimf(x_mlp,[0,0,0.15])\n",
    "mlp['NTR']=fuzz.trimf(x_mlp,[0.12,0.2,0.3])\n",
    "mlp['SLI']=fuzz.gaussmf(x_mlp,0.55,0.1)\n",
    "mlp['HI']=fuzz.trimf(x_mlp,[0.75,1.0,1.0])"
   ]
  },
  {
   "cell_type": "code",
   "execution_count": 45,
   "metadata": {},
   "outputs": [
    {
     "name": "stderr",
     "output_type": "stream",
     "text": [
      "/Users/vishnuchopra/anaconda3/envs/vcenv/lib/python3.5/site-packages/matplotlib/figure.py:403: UserWarning: matplotlib is currently using a non-GUI backend, so cannot show the figure\n",
      "  \"matplotlib is currently using a non-GUI backend, \"\n"
     ]
    }
   ],
   "source": [
    "from matplotlib.pyplot import savefig \n",
    "mlp.view()\n",
    "savefig('mlp')"
   ]
  },
  {
   "cell_type": "code",
   "execution_count": null,
   "metadata": {
    "collapsed": true
   },
   "outputs": [],
   "source": []
  }
 ],
 "metadata": {
  "kernelspec": {
   "display_name": "Python 3",
   "language": "python",
   "name": "python3"
  },
  "language_info": {
   "codemirror_mode": {
    "name": "ipython",
    "version": 3
   },
   "file_extension": ".py",
   "mimetype": "text/x-python",
   "name": "python",
   "nbconvert_exporter": "python",
   "pygments_lexer": "ipython3",
   "version": "3.5.3"
  }
 },
 "nbformat": 4,
 "nbformat_minor": 2
}
