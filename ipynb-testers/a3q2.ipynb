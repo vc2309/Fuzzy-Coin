{
 "cells": [
  {
   "cell_type": "code",
   "execution_count": 1,
   "metadata": {},
   "outputs": [
    {
     "name": "stderr",
     "output_type": "stream",
     "text": [
      "Using TensorFlow backend.\n"
     ]
    }
   ],
   "source": [
    "import keras\n",
    "from keras.datasets import mnist\n",
    "import matplotlib.pyplot as plt\n",
    "from keras.utils import to_categorical\n",
    "import numpy as np\n",
    "from keras.models import Sequential\n",
    "from keras.layers import Dense"
   ]
  },
  {
   "cell_type": "code",
   "execution_count": 2,
   "metadata": {
    "collapsed": true
   },
   "outputs": [],
   "source": [
    "import numpy as np"
   ]
  },
  {
   "cell_type": "code",
   "execution_count": 28,
   "metadata": {},
   "outputs": [],
   "source": [
    "from math import sin,pi,exp\n",
    "import random"
   ]
  },
  {
   "cell_type": "code",
   "execution_count": 7,
   "metadata": {
    "collapsed": true
   },
   "outputs": [],
   "source": [
    "def fxn1(x):\n",
    "    ang=sin(x*6*pi)\n",
    "    e=exp(-x**2)\n",
    "    return x*ang*e"
   ]
  },
  {
   "cell_type": "code",
   "execution_count": 10,
   "metadata": {
    "collapsed": true
   },
   "outputs": [],
   "source": [
    "def fxn2(x):\n",
    "    at=np.arctan(x)\n",
    "    ang=sin(4*pi*x)\n",
    "    e=exp(-x**2)\n",
    "    return at*ang*e"
   ]
  },
  {
   "cell_type": "code",
   "execution_count": 152,
   "metadata": {},
   "outputs": [],
   "source": [
    "def prep_sets(num):\n",
    "    x=[random.uniform(-1,1) for i in range(num)]\n",
    "    x1=np.array(x)\n",
    "    y1=[fxn1(x_v) for x_v in x1]\n",
    "    y=np.array(y1)\n",
    "    split=int(len(x)*0.7)\n",
    "    return np.array(x[:split]),np.array(y[:split]),np.array(x[split:]),np.array(y[split:])\n",
    "def prep_sets2(num):\n",
    "    x=[random.uniform(-2,2) for i in range(num)]\n",
    "    x1=np.array(x)\n",
    "    y1=[fxn1(x_v) for x_v in x1]\n",
    "    y=np.array(y1)\n",
    "    split=int(len(x)*0.7)\n",
    "    return np.array(x[:split]),np.array(y[:split]),np.array(x[split:]),np.array(y[split:])"
   ]
  },
  {
   "cell_type": "code",
   "execution_count": 154,
   "metadata": {},
   "outputs": [],
   "source": [
    "\n",
    "def fx1_var_samples(var):\n",
    "    if var==0:\n",
    "        num_nodes=[3]\n",
    "        num=[20*i for i in range(1,11,3)]\n",
    "    else:\n",
    "        num_nodes=[3,5,7,9]\n",
    "        num=[100]\n",
    "    lines=[]\n",
    "    for nn in num_nodes:\n",
    "        for x in num:\n",
    "            inp=int(0.7*x)\n",
    "            mlp = Sequential()\n",
    "            mlp.add(Dense(nn, activation='sigmoid', input_shape=(1,)))\n",
    "            mlp.add(Dense(1, activation='sigmoid'))\n",
    "            mlp.compile(loss='mean_squared_error',optimizer='adam')\n",
    "\n",
    "            x_tr,y_tr,x_te,y_te=prep_sets(x)\n",
    "\n",
    "            h = mlp.fit(x_tr, y_tr,\n",
    "                    epochs=200)\n",
    "            if var==0:\n",
    "                line,=plt.plot(h.history['loss'],label=\"samples=\"+str(x))\n",
    "            else:\n",
    "                line,=plt.plot(h.history['loss'],label=\"nodes=\"+str(nn))\n",
    "            lines.append(line)\n",
    "\n",
    "    plt.legend(handles=lines)\n",
    "    plt.title(\"fxn1\")\n",
    "    plt.show()\n",
    "\n",
    "    \n"
   ]
  },
  {
   "cell_type": "code",
   "execution_count": 159,
   "metadata": {
    "collapsed": true
   },
   "outputs": [],
   "source": [
    "def fx2_var_samples(var):\n",
    "    if var==0:\n",
    "        num_nodes=[3]\n",
    "        num=[20*i for i in range(1,11,3)]\n",
    "    else:\n",
    "        num_nodes=[3,5,7,9]\n",
    "        num=[100]\n",
    "\n",
    "    lines=[]\n",
    "    for nn in num_nodes:\n",
    "        for x in num:\n",
    "            inp=int(0.7*x)\n",
    "            mlp = Sequential()\n",
    "            mlp.add(Dense(nn, activation='sigmoid', input_shape=(1,)))\n",
    "            mlp.add(Dense(1, activation='sigmoid'))\n",
    "            mlp.compile(loss='mean_squared_error',optimizer='adam')\n",
    "\n",
    "            x_tr,y_tr,x_te,y_te=prep_sets2(x)\n",
    "            h = mlp.fit(x_tr, y_tr,\n",
    "                    epochs=200)\n",
    "            if var==0:\n",
    "                line,=plt.plot(h.history['loss'],label=\"samples=\"+str(x))\n",
    "            else:\n",
    "                line,=plt.plot(h.history['loss'],label=\"nodes=\"+str(nn))\n",
    "            lines.append(line)\n",
    "    plt.legend(handles=lines)\n",
    "    plt.title(\"fxn2\")\n",
    "    plt.show()"
   ]
  },
  {
   "cell_type": "code",
   "execution_count": null,
   "metadata": {
    "collapsed": true
   },
   "outputs": [],
   "source": []
  }
 ],
 "metadata": {
  "kernelspec": {
   "display_name": "Python 3",
   "language": "python",
   "name": "python3"
  },
  "language_info": {
   "codemirror_mode": {
    "name": "ipython",
    "version": 3
   },
   "file_extension": ".py",
   "mimetype": "text/x-python",
   "name": "python",
   "nbconvert_exporter": "python",
   "pygments_lexer": "ipython3",
   "version": "3.5.3"
  }
 },
 "nbformat": 4,
 "nbformat_minor": 2
}
