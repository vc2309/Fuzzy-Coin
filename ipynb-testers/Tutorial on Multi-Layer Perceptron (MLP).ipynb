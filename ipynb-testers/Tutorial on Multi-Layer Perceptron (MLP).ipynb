{
 "cells": [
  {
   "cell_type": "markdown",
   "metadata": {},
   "source": [
    "In this tutorial, we are going to go through an image classification example using MLPs on the MNIST digits dataset. You'll need to have keras installed to follow along."
   ]
  },
  {
   "cell_type": "code",
   "execution_count": 1,
   "metadata": {},
   "outputs": [
    {
     "name": "stderr",
     "output_type": "stream",
     "text": [
      "Using TensorFlow backend.\n"
     ]
    }
   ],
   "source": [
    "import keras\n",
    "from keras.datasets import mnist\n",
    "import matplotlib.pyplot as plt\n",
    "from keras.utils import to_categorical\n",
    "import numpy as np\n",
    "from keras.models import Sequential\n",
    "from keras.layers import Dense"
   ]
  },
  {
   "cell_type": "markdown",
   "metadata": {},
   "source": [
    "## Loading the data\n",
    "First, we will load the MNIST dataset (this will download the dataset the first time you run it). MNIST is a popular dataset in machine learning. Each sample is a single channel (i.e., grayscale) 28x28 (the size in pixels) image representing a hand-written digit. There 10 classes, for the digits 0, 1, ... , 9."
   ]
  },
  {
   "cell_type": "code",
   "execution_count": 44,
   "metadata": {},
   "outputs": [
    {
     "name": "stdout",
     "output_type": "stream",
     "text": [
      "train input shape: (60000, 28, 28)\n",
      "train labels shape: (60000,)\n",
      "test input shape: (10000, 28, 28)\n",
      "test labels shape: (10000,)\n"
     ]
    }
   ],
   "source": [
    "(x_train, y_train), (x_test, y_test) = mnist.load_data()\n",
    "print('train input shape: {}'.format(x_train.shape))\n",
    "print('train labels shape: {}'.format(y_train.shape))\n",
    "print('test input shape: {}'.format(x_test.shape))\n",
    "print('test labels shape: {}'.format(y_test.shape))"
   ]
  },
  {
   "cell_type": "markdown",
   "metadata": {},
   "source": [
    "We can see that there 60k training samples and 10k test samples. It is always a good practice to inspect a dataset first before you starting using it. Check the size, the range of values for the input and output, and visualize a few samples."
   ]
  },
  {
   "cell_type": "code",
   "execution_count": 45,
   "metadata": {},
   "outputs": [
    {
     "data": {
      "text/plain": [
       "<matplotlib.text.Text at 0x7f57d1acecc0>"
      ]
     },
     "execution_count": 45,
     "metadata": {},
     "output_type": "execute_result"
    },
    {
     "data": {
      "image/png": "[encoded data removed]",
      "text/plain": [
       "<matplotlib.figure.Figure at 0x7f57d68b04e0>"
      ]
     },
     "metadata": {},
     "output_type": "display_data"
    }
   ],
   "source": [
    "plt.subplot(1, 2, 1)\n",
    "plt.imshow(x_train[0], cmap='gray')\n",
    "plt.title(\"class '{}'\".format(y_train[0]))\n",
    "plt.subplot(1, 2, 2)\n",
    "plt.imshow(x_train[10], cmap='gray')\n",
    "plt.title(\"class '{}'\".format(y_train[10]))"
   ]
  },
  {
   "cell_type": "code",
   "execution_count": 46,
   "metadata": {},
   "outputs": [
    {
     "name": "stdout",
     "output_type": "stream",
     "text": [
      "0 255\n"
     ]
    }
   ],
   "source": [
    "print(x_train.min(), x_train.max())"
   ]
  },
  {
   "cell_type": "markdown",
   "metadata": {},
   "source": [
    "We can see that the range of values for the input is 0-255. This is important to know. If you are using a pre-trained model, you want to know what normalization was used on the input and use the same. Moreover, your training and test data should be normalized in the same way.\n",
    "\n",
    "We usually nomralize images to take values in the range 0-1 (or sometimes to have zero mean and unit variance)."
   ]
  },
  {
   "cell_type": "code",
   "execution_count": 47,
   "metadata": {},
   "outputs": [
    {
     "name": "stdout",
     "output_type": "stream",
     "text": [
      "0.0 1.0\n"
     ]
    }
   ],
   "source": [
    "x_train = x_train.astype(float) / 255\n",
    "x_test = x_test.astype(float) / 255\n",
    "print(x_train.min(), x_train.max())"
   ]
  },
  {
   "cell_type": "markdown",
   "metadata": {},
   "source": [
    "Also a good idea to inspect the format of the labels. Sometime, they are given as integers (as in this case), sometimes as one-hot encoded vectors."
   ]
  },
  {
   "cell_type": "code",
   "execution_count": 48,
   "metadata": {},
   "outputs": [
    {
     "name": "stdout",
     "output_type": "stream",
     "text": [
      "[5 0 4 1 9 2 1 3 1 4 3 5 3 6 1 7 2 8 6 9]\n"
     ]
    }
   ],
   "source": [
    "print(y_train[:20])"
   ]
  },
  {
   "cell_type": "markdown",
   "metadata": {},
   "source": [
    "So, we can see that each label is just an integer. Since we are going to train an MLP where the final layer is a softmax (whose output can be thought of as a probability distribution), we should convert our labels to one-hot encoding (some machine learning libraries will do this automatically for you, so always check the API)."
   ]
  },
  {
   "cell_type": "code",
   "execution_count": 49,
   "metadata": {},
   "outputs": [
    {
     "name": "stdout",
     "output_type": "stream",
     "text": [
      "(60000, 10)\n",
      "(10000, 10)\n",
      "[0. 0. 0. 0. 0. 1. 0. 0. 0. 0.]\n"
     ]
    }
   ],
   "source": [
    "y_train = to_categorical(y_train, num_classes=10)\n",
    "y_test = to_categorical(y_test, num_classes=10)\n",
    "print(y_train.shape)\n",
    "print(y_test.shape)\n",
    "print(y_train[0])"
   ]
  },
  {
   "cell_type": "markdown",
   "metadata": {},
   "source": [
    "We can see that each label now is 10-dimensional one-hot encoded vector. The label for the first training sample, which was '5', is shown.\n",
    "\n",
    "It is easy to revert back to the original labels if you need them, by finding the position of the maximum values across the columns."
   ]
  },
  {
   "cell_type": "code",
   "execution_count": 52,
   "metadata": {},
   "outputs": [
    {
     "name": "stdout",
     "output_type": "stream",
     "text": [
      "[5 0 4 1 9 2 1 3 1 4 3 5 3 6 1 7 2 8 6 9]\n"
     ]
    }
   ],
   "source": [
    "print(np.argmax(y_train[:20], axis=1))"
   ]
  },
  {
   "cell_type": "markdown",
   "metadata": {},
   "source": [
    "## Defining the MLP model\n",
    "Now that the data is in the format we want, let's build our model. We will use keras Sequential API. Let's build an MLP with 2 hidden layers. MLPs have fully connected layers (as opposed to, say, convolutional layers), sometimes also called dense layers.\n",
    "\n",
    "There are many parameters that we can pass in defining a Dense layer in keras. The first layer should define the expected input shape (in our case 28x28=784, the *flattened* image size). Moreover, we need to specify the number of units/neurons in each layer. Finally, we can also specify an acitivation function to use."
   ]
  },
  {
   "cell_type": "code",
   "execution_count": 240,
   "metadata": {
    "collapsed": true
   },
   "outputs": [],
   "source": [
    "mlp = Sequential()\n",
    "mlp.add(Dense(64, activation='sigmoid', input_shape=(784,)))\n",
    "mlp.add(Dense(64, activation='sigmoid'))"
   ]
  },
  {
   "cell_type": "markdown",
   "metadata": {},
   "source": [
    "So, we've added our 2 hidden layers, each with 64 units and a sigmoid non-linearity. Now we need to add the output layer. As we said, the output layer is a softmax over 10 classes, so it needs to contain 10 units, and the activation has to be softmax."
   ]
  },
  {
   "cell_type": "code",
   "execution_count": 241,
   "metadata": {
    "collapsed": true
   },
   "outputs": [],
   "source": [
    "mlp.add(Dense(10, activation='softmax'))"
   ]
  },
  {
   "cell_type": "markdown",
   "metadata": {},
   "source": [
    "With this, the network construction is complete. What's left, is to specify the optimization process: what loss function are we trying to minimize, and what optimizer do we want to use. To do this, we need to *compile* the model. We can also specify metrics such as accuracy to monitor during training, but they have no effect on the optimization.\n",
    "\n",
    "The loss depends on the problem we are trying to solve. For multi-class classification it is called categorical_crossentropy in keras.\n",
    "\n",
    "We will use the Adam optimizer with the default parameters. It is a variant of gradient descent."
   ]
  },
  {
   "cell_type": "code",
   "execution_count": 242,
   "metadata": {
    "collapsed": true
   },
   "outputs": [],
   "source": [
    "mlp.compile(loss='categorical_crossentropy',\n",
    "            optimizer='adam',\n",
    "            metrics=['accuracy'])"
   ]
  },
  {
   "cell_type": "markdown",
   "metadata": {},
   "source": [
    "## Training the model\n",
    "We can begin now training.\n",
    "\n",
    "Suppose our training set is made of 200 samples only. Let's begin training with that and train for 100 epochs."
   ]
  },
  {
   "cell_type": "code",
   "execution_count": 243,
   "metadata": {},
   "outputs": [
    {
     "data": {
      "text/plain": [
       "[<matplotlib.lines.Line2D at 0x7f5711503b70>]"
      ]
     },
     "execution_count": 243,
     "metadata": {},
     "output_type": "execute_result"
    },
    {
     "data": {
      "image/png": "[encoded data removed]",
      "text/plain": [
       "<matplotlib.figure.Figure at 0x7f57121794a8>"
      ]
     },
     "metadata": {},
     "output_type": "display_data"
    }
   ],
   "source": [
    "h = mlp.fit(x_train[:200].reshape(-1, 28 * 28), y_train[:200],\n",
    "            epochs=100, batch_size=32, verbose=0)\n",
    "plt.plot(h.history['acc'])"
   ]
  },
  {
   "cell_type": "markdown",
   "metadata": {},
   "source": [
    "Very quickly, we reach an accuracy of 100%. You may be tempted to think that your model is good and it can perform well on future data. However, this accuracy is on the training data, and it may not be representative of test accuracy. This can happen for different reasons (mismatch between training and test distributions, limited data, overfitting, etc.)\n",
    "\n",
    "When training a model, what you need to be monitoring is the loss/accuracy on a held-out set, called the validation set. So, let's evaluate our model on the test set to see how it does there."
   ]
  },
  {
   "cell_type": "code",
   "execution_count": 244,
   "metadata": {},
   "outputs": [
    {
     "name": "stdout",
     "output_type": "stream",
     "text": [
      "10000/10000 [==============================] - 1s 59us/step\n",
      "test accuracy: 75.3%\n"
     ]
    }
   ],
   "source": [
    "print('test accuracy: {}%'.format(100 *\n",
    "                                  mlp.evaluate(x_test.reshape(-1, 28 * 28),\n",
    "                                               y_test)[1]))"
   ]
  },
  {
   "cell_type": "markdown",
   "metadata": {},
   "source": [
    "We see that the model does poorly on the test set compared to the training set. The reason in this case is that we did not use enough training data. So let's use the whole training set, and this time let's use 25% of the training set as a validation set to monitor performance. (This could take a while to run, depending on your setup.)"
   ]
  },
  {
   "cell_type": "code",
   "execution_count": 245,
   "metadata": {},
   "outputs": [
    {
     "data": {
      "text/plain": [
       "<matplotlib.legend.Legend at 0x7f57121794e0>"
      ]
     },
     "execution_count": 245,
     "metadata": {},
     "output_type": "execute_result"
    },
    {
     "data": {
      "image/png": "[encoded data removed]",
      "text/plain": [
       "<matplotlib.figure.Figure at 0x7f571151c208>"
      ]
     },
     "metadata": {},
     "output_type": "display_data"
    }
   ],
   "source": [
    "h = mlp.fit(x_train.reshape(-1, 28 * 28), y_train, epochs=10,\n",
    "            batch_size=32, validation_split=0.25, verbose=0)\n",
    "plt.plot(h.history['acc'])\n",
    "plt.hold('on')\n",
    "plt.plot(h.history['val_acc'], 'r')\n",
    "plt.legend(['train acc', 'val acc'])"
   ]
  },
  {
   "cell_type": "markdown",
   "metadata": {},
   "source": [
    "Let's now evaluate again on our test set."
   ]
  },
  {
   "cell_type": "code",
   "execution_count": 246,
   "metadata": {},
   "outputs": [
    {
     "name": "stdout",
     "output_type": "stream",
     "text": [
      "10000/10000 [==============================] - 0s 27us/step\n",
      "test accuracy: 96.89%\n"
     ]
    }
   ],
   "source": [
    "print('test accuracy: {}%'.format(100 *\n",
    "                                  mlp.evaluate(x_test.reshape(-1, 28 * 28),\n",
    "                                               y_test)[1]))"
   ]
  },
  {
   "cell_type": "markdown",
   "metadata": {},
   "source": [
    "So we can see that the validation accuracy is a better estimate of the test accuracy."
   ]
  },
  {
   "cell_type": "markdown",
   "metadata": {},
   "source": [
    "In some cases, a model could be overfit the training data. You can idenitfy this situation if you notice your training accuracy increasing while the validation accuracy is decreasing. Adding more training data is one way to counter this issue, but that is not always feasible.\n",
    "\n",
    "Another approach is to simplify your model: if your model is a very high capacity (many layers/units) while your data is limited, you are probably going to overfit.\n",
    "\n",
    "To see this in action, let's look at this toy regression example."
   ]
  },
  {
   "cell_type": "markdown",
   "metadata": {},
   "source": [
    "## Overfitting\n",
    "Suppose the input is 2-dimensional (x_1, x_2) and that y=3x_1 + 2x_2 + n, where n is some random noise. Let's generate 100 samples from this model."
   ]
  },
  {
   "cell_type": "code",
   "execution_count": 227,
   "metadata": {
    "collapsed": true
   },
   "outputs": [],
   "source": [
    "x = 6 * np.random.rand(100, 2) - 3\n",
    "y = 3 * x[:, 0] + 2 * x[:, 1] + 2 * np.random.randn(100,)"
   ]
  },
  {
   "cell_type": "markdown",
   "metadata": {},
   "source": [
    "Let's build an MLP for this regression problem. We will follow the same steps, with few differences."
   ]
  },
  {
   "cell_type": "code",
   "execution_count": 228,
   "metadata": {
    "collapsed": true
   },
   "outputs": [],
   "source": [
    "mlp = Sequential()\n",
    "mlp.add(Dense(1024, activation='relu', input_shape=(2,)))\n",
    "mlp.add(Dense(1, activation='linear'))\n",
    "mlp.compile(loss='mean_squared_error', optimizer='adam')"
   ]
  },
  {
   "cell_type": "code",
   "execution_count": 229,
   "metadata": {
    "collapsed": true
   },
   "outputs": [],
   "source": [
    "h = mlp.fit(x, y, epochs=3000, batch_size=100,\n",
    "            validation_split=0.5, verbose=0)"
   ]
  },
  {
   "cell_type": "code",
   "execution_count": 231,
   "metadata": {},
   "outputs": [
    {
     "data": {
      "text/plain": [
       "<matplotlib.legend.Legend at 0x7f571779c588>"
      ]
     },
     "execution_count": 231,
     "metadata": {},
     "output_type": "execute_result"
    },
    {
     "data": {
      "image/png": "[encoded data removed]",
      "text/plain": [
       "<matplotlib.figure.Figure at 0x7f571779c550>"
      ]
     },
     "metadata": {},
     "output_type": "display_data"
    }
   ],
   "source": [
    "plt.plot(np.log10(h.history['loss']))\n",
    "plt.hold('on')\n",
    "plt.plot(np.log10(h.history['val_loss']), 'r')\n",
    "plt.legend(['train loss', 'val loss'])"
   ]
  },
  {
   "cell_type": "markdown",
   "metadata": {},
   "source": [
    "Note how the validation goes down at first, and then starts to go back up. This is an indication of overfitting. One way to counter this (aside from adding more data), is to use *early stopping*: stop training when the validation loss begins to increase.\n",
    "\n",
    "Another approach, as we mentioned earlier, is to simplify our model, say by reducing the number of units from 1024 to 64."
   ]
  },
  {
   "cell_type": "code",
   "execution_count": 232,
   "metadata": {},
   "outputs": [
    {
     "data": {
      "text/plain": [
       "<matplotlib.legend.Legend at 0x7f5717948588>"
      ]
     },
     "execution_count": 232,
     "metadata": {},
     "output_type": "execute_result"
    },
    {
     "data": {
      "image/png": "[encoded data removed]",
      "text/plain": [
       "<matplotlib.figure.Figure at 0x7f5716f41438>"
      ]
     },
     "metadata": {},
     "output_type": "display_data"
    }
   ],
   "source": [
    "mlp = Sequential()\n",
    "mlp.add(Dense(64, activation='relu', input_shape=(2,)))\n",
    "mlp.add(Dense(1, activation='linear'))\n",
    "mlp.compile(loss='mean_squared_error', optimizer='adam')\n",
    "h = mlp.fit(x, y, epochs=3000, batch_size=100, validation_split=0.3, verbose=0)\n",
    "plt.plot(np.log10(h.history['loss']))\n",
    "plt.hold('on')\n",
    "plt.plot(np.log10(h.history['val_loss']), 'r')\n",
    "plt.legend(['train loss', 'val loss'])"
   ]
  }
 ],
 "metadata": {
  "kernelspec": {
   "display_name": "Python 3",
   "language": "python",
   "name": "python3"
  },
  "language_info": {
   "codemirror_mode": {
    "name": "ipython",
    "version": 3
   },
   "file_extension": ".py",
   "mimetype": "text/x-python",
   "name": "python",
   "nbconvert_exporter": "python",
   "pygments_lexer": "ipython3",
   "version": "3.5.3"
  }
 },
 "nbformat": 4,
 "nbformat_minor": 2
}
