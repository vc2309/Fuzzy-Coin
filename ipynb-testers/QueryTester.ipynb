{
 "cells": [
  {
   "cell_type": "code",
   "execution_count": 1,
   "metadata": {
    "collapsed": true
   },
   "outputs": [],
   "source": [
    "import MySQLdb"
   ]
  },
  {
   "cell_type": "code",
   "execution_count": 2,
   "metadata": {
    "collapsed": true
   },
   "outputs": [],
   "source": [
    "db = MySQLdb.connect(host=\"ece457project.chwjf5irbz2p.us-east-2.rds.amazonaws.com\",\n",
    "                    user=\"aiproject2018\",         \n",
    "                    passwd=\"aiproject2018\",  \n",
    "                    db=\"bitcoinproject\"\n",
    "                    )"
   ]
  },
  {
   "cell_type": "code",
   "execution_count": 4,
   "metadata": {},
   "outputs": [],
   "source": [
    "cur=db.cursor()"
   ]
  },
  {
   "cell_type": "code",
   "execution_count": 6,
   "metadata": {
    "scrolled": true
   },
   "outputs": [
    {
     "data": {
      "text/plain": [
       "0L"
      ]
     },
     "execution_count": 6,
     "metadata": {},
     "output_type": "execute_result"
    }
   ],
   "source": [
    "cur.execute(\"use bitcoinproject;\")"
   ]
  },
  {
   "cell_type": "code",
   "execution_count": 226,
   "metadata": {},
   "outputs": [
    {
     "data": {
      "text/plain": [
       "(('id', 'int(11)', 'NO', 'PRI', None, 'auto_increment'),\n",
       " ('title', 'varchar(255)', 'YES', '', None, ''),\n",
       " ('body', 'text', 'YES', '', None, ''),\n",
       " ('date', 'datetime', 'YES', '', None, ''))"
      ]
     },
     "execution_count": 226,
     "metadata": {},
     "output_type": "execute_result"
    }
   ],
   "source": [
    "cur.execute(\"describe coindesk_articles;\")\n",
    "cur.fetchall()"
   ]
  },
  {
   "cell_type": "code",
   "execution_count": 309,
   "metadata": {},
   "outputs": [
    {
     "data": {
      "text/plain": [
       "'Ether Drops Below $400 to Hit Lowest Price Since November'"
      ]
     },
     "execution_count": 309,
     "metadata": {},
     "output_type": "execute_result"
    }
   ],
   "source": [
    "dt=\"2018-03-29\"\n",
    "cur.execute(\"SELECT * FROM coindesk_articles WHERE date = %s\",(dt,))\n",
    "a=cur.fetchall()\n",
    "\n",
    "table={\n",
    "    \"id\":[i[0] for i in a],\n",
    "    \"headline\":[i[1] for i in a],\n",
    "    \"body\":[i[2] for i in a],\n",
    "    \"date\":[i[3] for i in a]\n",
    "}\n",
    "\n",
    "import pandas as pd\n",
    "\n",
    "df = pd.DataFrame(table)\n",
    "df.loc[0][2]"
   ]
  },
  {
   "cell_type": "code",
   "execution_count": 323,
   "metadata": {
    "scrolled": false
   },
   "outputs": [
    {
     "data": {
      "text/plain": [
       "['Ether Drops Below $400 to Hit Lowest Price Since November',\n",
       " \"Intel Wants to Patent a Bitcoin Mining Hardware 'Accelerator'\",\n",
       " 'Email Service MailChimp to Block ICO, Crypto Marketing',\n",
       " \"Game Giant Unity to Work With Kik's ICO Token\",\n",
       " 'Scammers Are Posing As Crypto Exchange Support Staff, Says FBI',\n",
       " \"'Colored Coins' Startup Coinprism Is Shutting Down\",\n",
       " 'Major Cryptocurrencies Are Hitting 2018 Lows Today',\n",
       " 'Report: Korean Insurer Denies Claim from Bankrupt Crypto Exchange',\n",
       " 'UK Financial Watchdog Warns Over Unregistered Crypto Brokerage',\n",
       " \"China's Central Bank Eyes Crypto as Possible Yuan Risk\",\n",
       " \"Bitcoin's Lightning Network Is Live, But Can It Keep from Going Corporate?\",\n",
       " '$7K Next? Bitcoin Bears Pull Off Downside Break',\n",
       " 'West Virginia Piloting Blockchain Voting App in Senate Election',\n",
       " \"State Digital Currency Still On Agenda, Says China's Blockchain Lead\",\n",
       " \"What It's Like to Talk to the SEC About Your ICO\"]"
      ]
     },
     "execution_count": 323,
     "metadata": {},
     "output_type": "execute_result"
    }
   ],
   "source": [
    "for i,j in enumerate(table[\"body\"]):\n",
    "    table[\"body\"][i]=preproc(j)\n",
    "table[\"headline\"]"
   ]
  },
  {
   "cell_type": "code",
   "execution_count": 319,
   "metadata": {},
   "outputs": [],
   "source": [
    "import re\n",
    "def preproc(body):\n",
    "    body=body.strip()\n",
    "    body=re.sub(r'\\s(\\n){2,}','. ',body)\n",
    "    body=re.sub(r'(\\n)+','. ',body)\n",
    "    body=re.sub(r'(\\xc2\\xa0)+',' ',body)\n",
    "    idx=body.find('Shutterstock')\n",
    "    body=body[:idx]\n",
    "    idx2=body.rfind('.')\n",
    "    body=body[:idx2]+\".\"\n",
    "    return body"
   ]
  },
  {
   "cell_type": "code",
   "execution_count": 66,
   "metadata": {},
   "outputs": [
    {
     "data": {
      "text/plain": [
       "[datetime.datetime(2018, 3, 30, 0, 0),\n",
       " datetime.datetime(2018, 3, 30, 0, 0),\n",
       " datetime.datetime(2018, 3, 30, 0, 0),\n",
       " datetime.datetime(2018, 3, 30, 0, 0),\n",
       " datetime.datetime(2018, 3, 30, 0, 0),\n",
       " datetime.datetime(2018, 3, 30, 0, 0),\n",
       " datetime.datetime(2018, 3, 30, 0, 0),\n",
       " datetime.datetime(2018, 3, 30, 0, 0),\n",
       " datetime.datetime(2018, 3, 30, 0, 0),\n",
       " datetime.datetime(2018, 3, 30, 0, 0),\n",
       " datetime.datetime(2018, 3, 30, 0, 0),\n",
       " datetime.datetime(2018, 3, 30, 0, 0)]"
      ]
     },
     "execution_count": 66,
     "metadata": {},
     "output_type": "execute_result"
    }
   ],
   "source": []
  },
  {
   "cell_type": "code",
   "execution_count": 371,
   "metadata": {},
   "outputs": [],
   "source": [
    "import json\n",
    "from watson_developer_cloud import NaturalLanguageUnderstandingV1\n",
    "from watson_developer_cloud.natural_language_understanding_v1 \\\n",
    "import Features, EntitiesOptions, KeywordsOptions, SentimentOptions\n",
    "\n",
    "def analyzer(req):\n",
    "    nlu = NaturalLanguageUnderstandingV1(\n",
    "      username='fb46fb33-3a6b-4ab1-abd3-1d564faee2e7',\n",
    "      password='X2wDsDxGoBlm',\n",
    "      version='2018-03-16')\n",
    "\n",
    "    response = nlu.analyze(\n",
    "      text=req,\n",
    "      features=Features(\n",
    "        sentiment=SentimentOptions(\n",
    "          targets=['bitcoin','stock','price','ether','crypto','currency','cryptocurrency','cryptocurrencies','ethereum','ICO','coin','coins','blockchain','trade','trades','exchange'])))\n",
    "    return response"
   ]
  },
  {
   "cell_type": "code",
   "execution_count": 339,
   "metadata": {},
   "outputs": [
    {
     "data": {
      "text/plain": [
       "{u'language': u'en',\n",
       " u'sentiment': {u'document': {u'label': u'negative', u'score': -0.753135},\n",
       "  u'targets': [{u'label': u'negative',\n",
       "    u'score': -0.753135,\n",
       "    u'text': u'bitcoin'}]},\n",
       " u'usage': {u'features': 1, u'text_characters': 47, u'text_units': 1}}"
      ]
     },
     "execution_count": 339,
     "metadata": {},
     "output_type": "execute_result"
    }
   ],
   "source": [
    "response"
   ]
  },
  {
   "cell_type": "code",
   "execution_count": 370,
   "metadata": {},
   "outputs": [
    {
     "name": "stdout",
     "output_type": "stream",
     "text": [
      "Ether Drops Below $400 to Hit Lowest Price Since November\n",
      "{u'usage': {u'text_characters': 57, u'features': 1, u'text_units': 1}, u'language': u'en', u'sentiment': {u'document': {u'score': -0.721336, u'label': u'negative'}, u'targets': [{u'text': u'price', u'score': -0.721336, u'label': u'negative'}, {u'text': u'ether', u'score': -0.721336, u'label': u'negative'}]}}\n",
      "Intel Wants to Patent a Bitcoin Mining Hardware 'Accelerator'\n",
      "{u'usage': {u'text_characters': 61, u'features': 1, u'text_units': 1}, u'language': u'en', u'sentiment': {u'document': {u'score': 0.0, u'label': u'neutral'}, u'targets': [{u'text': u'bitcoin', u'score': 0.0, u'label': u'neutral'}]}}\n",
      "Email Service MailChimp to Block ICO, Crypto Marketing\n",
      "{u'usage': {u'text_characters': 54, u'features': 1, u'text_units': 1}, u'language': u'en', u'sentiment': {u'document': {u'score': -0.429803, u'label': u'negative'}, u'targets': [{u'text': u'crypto', u'score': 0.0, u'label': u'neutral'}, {u'text': u'ICO', u'score': -0.249248, u'label': u'negative'}]}}\n",
      "Game Giant Unity to Work With Kik's ICO Token\n",
      "{u'usage': {u'text_characters': 45, u'features': 1, u'text_units': 1}, u'language': u'en', u'sentiment': {u'document': {u'score': 0.0, u'label': u'neutral'}, u'targets': [{u'text': u'ICO', u'score': 0.0, u'label': u'neutral'}]}}\n",
      "Scammers Are Posing As Crypto Exchange Support Staff, Says FBI\n",
      "{u'usage': {u'text_characters': 62, u'features': 1, u'text_units': 1}, u'language': u'en', u'sentiment': {u'document': {u'score': -0.738127, u'label': u'negative'}, u'targets': [{u'text': u'crypto', u'score': -0.564739, u'label': u'negative'}]}}\n",
      "'Colored Coins' Startup Coinprism Is Shutting Down\n",
      "{u'usage': {u'text_characters': 50, u'features': 1, u'text_units': 1}, u'language': u'en', u'sentiment': {u'document': {u'score': -0.668197, u'label': u'negative'}, u'targets': [{u'text': u'coins', u'score': 0.348789, u'label': u'positive'}]}}\n",
      "Major Cryptocurrencies Are Hitting 2018 Lows Today\n",
      "{u'usage': {u'text_characters': 50, u'features': 1, u'text_units': 1}, u'language': u'en', u'sentiment': {u'document': {u'score': -0.805964, u'label': u'negative'}, u'targets': [{u'text': u'cryptocurrencies', u'score': -0.805964, u'label': u'negative'}]}}\n",
      "Report: Korean Insurer Denies Claim from Bankrupt Crypto Exchange\n",
      "{u'usage': {u'text_characters': 65, u'features': 1, u'text_units': 1}, u'language': u'en', u'sentiment': {u'document': {u'score': -0.658345, u'label': u'negative'}, u'targets': [{u'text': u'crypto', u'score': -0.465581, u'label': u'negative'}]}}\n",
      "UK Financial Watchdog Warns Over Unregistered Crypto Brokerage\n",
      "{u'usage': {u'text_characters': 62, u'features': 1, u'text_units': 1}, u'language': u'en', u'sentiment': {u'document': {u'score': 0.0, u'label': u'neutral'}, u'targets': [{u'text': u'crypto', u'score': 0.0, u'label': u'neutral'}]}}\n",
      "China's Central Bank Eyes Crypto as Possible Yuan Risk\n",
      "{u'usage': {u'text_characters': 54, u'features': 1, u'text_units': 1}, u'language': u'en', u'sentiment': {u'document': {u'score': -0.419464, u'label': u'negative'}, u'targets': [{u'text': u'crypto', u'score': -0.419465, u'label': u'negative'}]}}\n",
      "Bitcoin's Lightning Network Is Live, But Can It Keep from Going Corporate?\n",
      "{u'usage': {u'text_characters': 74, u'features': 1, u'text_units': 1}, u'language': u'en', u'sentiment': {u'document': {u'score': 0.0, u'label': u'neutral'}, u'targets': [{u'text': u'bitcoin', u'score': 0.0, u'label': u'neutral'}]}}\n",
      "$7K Next? Bitcoin Bears Pull Off Downside Break\n",
      "{u'usage': {u'text_characters': 47, u'features': 1, u'text_units': 1}, u'language': u'en', u'sentiment': {u'document': {u'score': -0.753135, u'label': u'negative'}, u'targets': [{u'text': u'bitcoin', u'score': -0.753135, u'label': u'negative'}]}}\n",
      "West Virginia Piloting Blockchain Voting App in Senate Election\n",
      "{u'usage': {u'text_characters': 63, u'features': 1, u'text_units': 1}, u'language': u'en', u'sentiment': {u'document': {u'score': 0.0, u'label': u'neutral'}, u'targets': [{u'text': u'blockchain', u'score': 0.0, u'label': u'neutral'}]}}\n",
      "State Digital Currency Still On Agenda, Says China's Blockchain Lead\n",
      "{u'usage': {u'text_characters': 68, u'features': 1, u'text_units': 1}, u'language': u'en', u'sentiment': {u'document': {u'score': 0.0, u'label': u'neutral'}, u'targets': [{u'text': u'currency', u'score': 0.0, u'label': u'neutral'}, {u'text': u'blockchain', u'score': 0.0, u'label': u'neutral'}]}}\n",
      "What It's Like to Talk to the SEC About Your ICO\n",
      "{u'usage': {u'text_characters': 48, u'features': 1, u'text_units': 1}, u'language': u'en', u'sentiment': {u'document': {u'score': -0.490014, u'label': u'negative'}, u'targets': [{u'text': u'ICO', u'score': -0.490014, u'label': u'negative'}]}}\n"
     ]
    }
   ],
   "source": [
    "for row in df.iterrows():\n",
    "    a=str(row[1][\"headline\"])\n",
    "    print a\n",
    "    print analyzer(a)"
   ]
  },
  {
   "cell_type": "code",
   "execution_count": 342,
   "metadata": {},
   "outputs": [
    {
     "data": {
      "text/plain": [
       "['Ether Drops Below $400 to Hit Lowest Price Since November',\n",
       " \"Intel Wants to Patent a Bitcoin Mining Hardware 'Accelerator'\",\n",
       " 'Email Service MailChimp to Block ICO, Crypto Marketing',\n",
       " \"Game Giant Unity to Work With Kik's ICO Token\",\n",
       " 'Scammers Are Posing As Crypto Exchange Support Staff, Says FBI',\n",
       " \"'Colored Coins' Startup Coinprism Is Shutting Down\",\n",
       " 'Major Cryptocurrencies Are Hitting 2018 Lows Today',\n",
       " 'Report: Korean Insurer Denies Claim from Bankrupt Crypto Exchange',\n",
       " 'UK Financial Watchdog Warns Over Unregistered Crypto Brokerage',\n",
       " \"China's Central Bank Eyes Crypto as Possible Yuan Risk\",\n",
       " \"Bitcoin's Lightning Network Is Live, But Can It Keep from Going Corporate?\",\n",
       " '$7K Next? Bitcoin Bears Pull Off Downside Break',\n",
       " 'West Virginia Piloting Blockchain Voting App in Senate Election',\n",
       " \"State Digital Currency Still On Agenda, Says China's Blockchain Lead\",\n",
       " \"What It's Like to Talk to the SEC About Your ICO\"]"
      ]
     },
     "execution_count": 342,
     "metadata": {},
     "output_type": "execute_result"
    }
   ],
   "source": [
    "b"
   ]
  },
  {
   "cell_type": "code",
   "execution_count": null,
   "metadata": {
    "collapsed": true
   },
   "outputs": [],
   "source": []
  }
 ],
 "metadata": {
  "kernelspec": {
   "display_name": "Python 2",
   "language": "python",
   "name": "python2"
  },
  "language_info": {
   "codemirror_mode": {
    "name": "ipython",
    "version": 2
   },
   "file_extension": ".py",
   "mimetype": "text/x-python",
   "name": "python",
   "nbconvert_exporter": "python",
   "pygments_lexer": "ipython2",
   "version": "2.7.13"
  }
 },
 "nbformat": 4,
 "nbformat_minor": 2
}
