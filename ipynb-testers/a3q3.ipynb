{
 "cells": [
  {
   "cell_type": "code",
   "execution_count": 5,
   "metadata": {},
   "outputs": [
    {
     "name": "stderr",
     "output_type": "stream",
     "text": [
      "Using TensorFlow backend.\n"
     ]
    }
   ],
   "source": [
    "import keras\n",
    "from keras.datasets import mnist\n",
    "import matplotlib.pyplot as plt\n",
    "from keras.utils import to_categorical\n",
    "import numpy as np\n",
    "from keras.models import Sequential\n",
    "from keras.layers import Dense"
   ]
  },
  {
   "cell_type": "code",
   "execution_count": 6,
   "metadata": {
    "collapsed": true
   },
   "outputs": [],
   "source": [
    "import numpy as np"
   ]
  },
  {
   "cell_type": "code",
   "execution_count": 12,
   "metadata": {
    "collapsed": true
   },
   "outputs": [],
   "source": [
    "from math import sin,pi,exp,cos\n",
    "import random"
   ]
  },
  {
   "cell_type": "code",
   "execution_count": 8,
   "metadata": {
    "collapsed": true
   },
   "outputs": [],
   "source": [
    "def fxn1(x1,x2):\n",
    "    ang1=sin(x1*2*pi)\n",
    "    ang2=cos(0.5*pi*x2)\n",
    "    e=exp(-x1**2)\n",
    "    return ang2*ang1*e"
   ]
  },
  {
   "cell_type": "code",
   "execution_count": 14,
   "metadata": {
    "collapsed": true
   },
   "outputs": [],
   "source": [
    "def prep_sets(num):\n",
    "    x1=[random.uniform(-1,1) for i in range(num)]\n",
    "    x2=[random.uniform(-4,4) for i in range(num)]\n",
    "    y=[fxn1(x1_v,x2_v) for x1_v,x2_v in zip(x1,x2)]\n",
    "    split=int(len(x1)*0.7)\n",
    "    \n",
    "    sets={\n",
    "        \"x1_tr\":np.array(x1[:split]),\n",
    "        \"x2_tr\":np.array(x2[:split]),\n",
    "        \"y_tr\":np.array(y[:split]),\n",
    "        \"x1_te\":np.array(x1[split:]),\n",
    "        \"x2_te\":np.array(x2[split:]),\n",
    "        \"y_te\":np.array(y[split:])\n",
    "    }\n",
    "    \n",
    "    return sets\n"
   ]
  },
  {
   "cell_type": "code",
   "execution_count": 18,
   "metadata": {
    "collapsed": true
   },
   "outputs": [],
   "source": [
    "\n",
    "def build(var=0):\n",
    "    if var==0:\n",
    "        num_nodes=[4]\n",
    "        num=[500]\n",
    "    else:\n",
    "        num_nodes=[2,6,8,12,20]\n",
    "        num=[500]\n",
    "    lines=[]\n",
    "    for nn in num_nodes:\n",
    "        for x in num:\n",
    "            inp=int(0.7*x)\n",
    "            mlp = Sequential()\n",
    "            mlp.add(Dense(nn, activation='sigmoid', input_shape=(2,)))\n",
    "            mlp.add(Dense(1, activation='sigmoid'))\n",
    "            mlp.compile(loss='mean_squared_error',optimizer='adam')\n",
    "\n",
    "            sets=prep_sets(x)\n",
    "            x1_tr=sets[\"x1_tr\"]\n",
    "            x2_tr=sets[\"x2_tr\"]\n",
    "            y_tr=sets[\"y_tr\"]\n",
    "            x1_te=sets[\"x1_te\"]\n",
    "            x2_te=sets[\"x2_te\"]\n",
    "            y_te=sets[\"y_te\"]\n",
    "            x_trs=[np.array([x1,x2]) for x1,x2 in zip(x1_tr,x2_tr)]\n",
    "            x_tre=[np.array([x1,x2]) for x1,x2 in zip(x1_te,x2_te)]\n",
    "            x_tr=np.array(x_trs)\n",
    "            x_te=np.array(x_tre)\n",
    "            h = mlp.fit(x_tr, y_tr,\n",
    "                    epochs=200)\n",
    "            if var==0:\n",
    "                line,=plt.plot(h.history['loss'],label=\"samples=\"+str(x))\n",
    "            else:\n",
    "                line,=plt.plot(h.history['loss'],label=\"nodes=\"+str(nn))\n",
    "            lines.append(line)\n",
    "\n",
    "    plt.legend(handles=lines)\n",
    "    plt.title(\"fxn1\")\n",
    "    plt.show()\n",
    "\n",
    "    \n"
   ]
  },
  {
   "cell_type": "code",
   "execution_count": null,
   "metadata": {
    "collapsed": true
   },
   "outputs": [],
   "source": []
  }
 ],
 "metadata": {
  "kernelspec": {
   "display_name": "Python 3",
   "language": "python",
   "name": "python3"
  },
  "language_info": {
   "codemirror_mode": {
    "name": "ipython",
    "version": 3
   },
   "file_extension": ".py",
   "mimetype": "text/x-python",
   "name": "python",
   "nbconvert_exporter": "python",
   "pygments_lexer": "ipython3",
   "version": "3.5.3"
  }
 },
 "nbformat": 4,
 "nbformat_minor": 2
}
